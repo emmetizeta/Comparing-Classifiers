{
 "cells": [
  {
   "cell_type": "markdown",
   "id": "abc4a81b",
   "metadata": {},
   "source": [
    "# Practical Application III: Comparing Classifiers\n",
    "\n",
    "### A.Morato\n",
    "#### BH-PCMLAI January 2024\n",
    "\n",
    "**Overview**: In this practical application, your goal is to compare the performance of the classifiers we encountered in this section, namely K Nearest Neighbor, Logistic Regression, Decision Trees, and Support Vector Machines.  We will utilize a dataset related to marketing bank products over the telephone.  "
   ]
  },
  {
   "cell_type": "markdown",
   "id": "296d7798",
   "metadata": {},
   "source": [
    "### Getting Started\n",
    "\n",
    "Our dataset comes from the UCI Machine Learning repository [link](https://archive.ics.uci.edu/ml/datasets/bank+marketing).  The data is from a Portugese banking institution and is a collection of the results of multiple marketing campaigns.  We will make use of the article accompanying the dataset [here](CRISP-DM-BANK.pdf) for more information on the data and features."
   ]
  },
  {
   "cell_type": "markdown",
   "id": "2f97cc6d",
   "metadata": {},
   "source": [
    "### Problem 1: Understanding the Data\n",
    "\n",
    "To gain a better understanding of the data, please read the information provided in the UCI link above, and examine the **Materials and Methods** section of the paper.  How many marketing campaigns does this data represent?"
   ]
  },
  {
   "cell_type": "markdown",
   "id": "a567d6e8",
   "metadata": {},
   "source": [
    "The data provided represents 17 campaigns that occurred between May 2008 and November 2010."
   ]
  },
  {
   "cell_type": "markdown",
   "id": "aa85c31a",
   "metadata": {},
   "source": [
    "### Problem 2: Read in the Data\n",
    "\n",
    "Use pandas to read in the dataset `bank-additional-full.csv` and assign to a meaningful variable name."
   ]
  },
  {
   "cell_type": "code",
   "execution_count": 1,
   "id": "4be2b663",
   "metadata": {},
   "outputs": [],
   "source": [
    "#Import of needed modules\n",
    "\n",
    "import matplotlib.pyplot as plt\n",
    "import pandas as pd\n",
    "import numpy as np\n",
    "import time\n",
    "\n",
    "import seaborn as sns\n",
    "import plotly.express as px\n",
    "import scipy.stats as stats\n",
    "import pylab as pl\n",
    "\n",
    "from sklearn.compose import make_column_transformer, TransformedTargetRegressor\n",
    "from sklearn.compose import ColumnTransformer\n",
    "from sklearn.pipeline import Pipeline\n",
    "from sklearn.linear_model import LogisticRegression\n",
    "from sklearn.preprocessing import StandardScaler,OneHotEncoder\n",
    "from sklearn.model_selection import train_test_split, GridSearchCV\n",
    "from sklearn.neighbors import KNeighborsClassifier\n",
    "from sklearn.svm import SVC\n",
    "from sklearn.tree import DecisionTreeClassifier, plot_tree\n",
    "from sklearn.metrics import mean_squared_error\n",
    "from sklearn.feature_selection import SequentialFeatureSelector\n",
    "from sklearn.metrics import accuracy_score, classification_report, confusion_matrix, precision_score\n",
    "from sklearn.metrics import accuracy_score, recall_score, precision_score, f1_score, roc_auc_score\n",
    "\n",
    "import warnings\n",
    "warnings.filterwarnings('ignore')\n",
    "\n",
    "from sklearn import set_config\n",
    "set_config(display=\"diagram\")"
   ]
  },
  {
   "cell_type": "code",
   "execution_count": 2,
   "id": "0d0c7889",
   "metadata": {},
   "outputs": [],
   "source": [
    "import pandas as pd"
   ]
  },
  {
   "cell_type": "code",
   "execution_count": 3,
   "id": "b6a6f618",
   "metadata": {},
   "outputs": [],
   "source": [
    "df = pd.read_csv('bank-additional-full.csv', sep = ';')"
   ]
  },
  {
   "cell_type": "code",
   "execution_count": 4,
   "id": "a3f561e9",
   "metadata": {},
   "outputs": [
    {
     "data": {
      "text/html": [
       "<div>\n",
       "<style scoped>\n",
       "    .dataframe tbody tr th:only-of-type {\n",
       "        vertical-align: middle;\n",
       "    }\n",
       "\n",
       "    .dataframe tbody tr th {\n",
       "        vertical-align: top;\n",
       "    }\n",
       "\n",
       "    .dataframe thead th {\n",
       "        text-align: right;\n",
       "    }\n",
       "</style>\n",
       "<table border=\"1\" class=\"dataframe\">\n",
       "  <thead>\n",
       "    <tr style=\"text-align: right;\">\n",
       "      <th></th>\n",
       "      <th>age</th>\n",
       "      <th>job</th>\n",
       "      <th>marital</th>\n",
       "      <th>education</th>\n",
       "      <th>default</th>\n",
       "      <th>housing</th>\n",
       "      <th>loan</th>\n",
       "      <th>contact</th>\n",
       "      <th>month</th>\n",
       "      <th>day_of_week</th>\n",
       "      <th>...</th>\n",
       "      <th>campaign</th>\n",
       "      <th>pdays</th>\n",
       "      <th>previous</th>\n",
       "      <th>poutcome</th>\n",
       "      <th>emp.var.rate</th>\n",
       "      <th>cons.price.idx</th>\n",
       "      <th>cons.conf.idx</th>\n",
       "      <th>euribor3m</th>\n",
       "      <th>nr.employed</th>\n",
       "      <th>y</th>\n",
       "    </tr>\n",
       "  </thead>\n",
       "  <tbody>\n",
       "    <tr>\n",
       "      <th>0</th>\n",
       "      <td>56</td>\n",
       "      <td>housemaid</td>\n",
       "      <td>married</td>\n",
       "      <td>basic.4y</td>\n",
       "      <td>no</td>\n",
       "      <td>no</td>\n",
       "      <td>no</td>\n",
       "      <td>telephone</td>\n",
       "      <td>may</td>\n",
       "      <td>mon</td>\n",
       "      <td>...</td>\n",
       "      <td>1</td>\n",
       "      <td>999</td>\n",
       "      <td>0</td>\n",
       "      <td>nonexistent</td>\n",
       "      <td>1.1</td>\n",
       "      <td>93.994</td>\n",
       "      <td>-36.4</td>\n",
       "      <td>4.857</td>\n",
       "      <td>5191.0</td>\n",
       "      <td>no</td>\n",
       "    </tr>\n",
       "    <tr>\n",
       "      <th>1</th>\n",
       "      <td>57</td>\n",
       "      <td>services</td>\n",
       "      <td>married</td>\n",
       "      <td>high.school</td>\n",
       "      <td>unknown</td>\n",
       "      <td>no</td>\n",
       "      <td>no</td>\n",
       "      <td>telephone</td>\n",
       "      <td>may</td>\n",
       "      <td>mon</td>\n",
       "      <td>...</td>\n",
       "      <td>1</td>\n",
       "      <td>999</td>\n",
       "      <td>0</td>\n",
       "      <td>nonexistent</td>\n",
       "      <td>1.1</td>\n",
       "      <td>93.994</td>\n",
       "      <td>-36.4</td>\n",
       "      <td>4.857</td>\n",
       "      <td>5191.0</td>\n",
       "      <td>no</td>\n",
       "    </tr>\n",
       "    <tr>\n",
       "      <th>2</th>\n",
       "      <td>37</td>\n",
       "      <td>services</td>\n",
       "      <td>married</td>\n",
       "      <td>high.school</td>\n",
       "      <td>no</td>\n",
       "      <td>yes</td>\n",
       "      <td>no</td>\n",
       "      <td>telephone</td>\n",
       "      <td>may</td>\n",
       "      <td>mon</td>\n",
       "      <td>...</td>\n",
       "      <td>1</td>\n",
       "      <td>999</td>\n",
       "      <td>0</td>\n",
       "      <td>nonexistent</td>\n",
       "      <td>1.1</td>\n",
       "      <td>93.994</td>\n",
       "      <td>-36.4</td>\n",
       "      <td>4.857</td>\n",
       "      <td>5191.0</td>\n",
       "      <td>no</td>\n",
       "    </tr>\n",
       "    <tr>\n",
       "      <th>3</th>\n",
       "      <td>40</td>\n",
       "      <td>admin.</td>\n",
       "      <td>married</td>\n",
       "      <td>basic.6y</td>\n",
       "      <td>no</td>\n",
       "      <td>no</td>\n",
       "      <td>no</td>\n",
       "      <td>telephone</td>\n",
       "      <td>may</td>\n",
       "      <td>mon</td>\n",
       "      <td>...</td>\n",
       "      <td>1</td>\n",
       "      <td>999</td>\n",
       "      <td>0</td>\n",
       "      <td>nonexistent</td>\n",
       "      <td>1.1</td>\n",
       "      <td>93.994</td>\n",
       "      <td>-36.4</td>\n",
       "      <td>4.857</td>\n",
       "      <td>5191.0</td>\n",
       "      <td>no</td>\n",
       "    </tr>\n",
       "    <tr>\n",
       "      <th>4</th>\n",
       "      <td>56</td>\n",
       "      <td>services</td>\n",
       "      <td>married</td>\n",
       "      <td>high.school</td>\n",
       "      <td>no</td>\n",
       "      <td>no</td>\n",
       "      <td>yes</td>\n",
       "      <td>telephone</td>\n",
       "      <td>may</td>\n",
       "      <td>mon</td>\n",
       "      <td>...</td>\n",
       "      <td>1</td>\n",
       "      <td>999</td>\n",
       "      <td>0</td>\n",
       "      <td>nonexistent</td>\n",
       "      <td>1.1</td>\n",
       "      <td>93.994</td>\n",
       "      <td>-36.4</td>\n",
       "      <td>4.857</td>\n",
       "      <td>5191.0</td>\n",
       "      <td>no</td>\n",
       "    </tr>\n",
       "  </tbody>\n",
       "</table>\n",
       "<p>5 rows × 21 columns</p>\n",
       "</div>"
      ],
      "text/plain": [
       "   age        job  marital    education  default housing loan    contact  \\\n",
       "0   56  housemaid  married     basic.4y       no      no   no  telephone   \n",
       "1   57   services  married  high.school  unknown      no   no  telephone   \n",
       "2   37   services  married  high.school       no     yes   no  telephone   \n",
       "3   40     admin.  married     basic.6y       no      no   no  telephone   \n",
       "4   56   services  married  high.school       no      no  yes  telephone   \n",
       "\n",
       "  month day_of_week  ...  campaign  pdays  previous     poutcome emp.var.rate  \\\n",
       "0   may         mon  ...         1    999         0  nonexistent          1.1   \n",
       "1   may         mon  ...         1    999         0  nonexistent          1.1   \n",
       "2   may         mon  ...         1    999         0  nonexistent          1.1   \n",
       "3   may         mon  ...         1    999         0  nonexistent          1.1   \n",
       "4   may         mon  ...         1    999         0  nonexistent          1.1   \n",
       "\n",
       "   cons.price.idx  cons.conf.idx  euribor3m  nr.employed   y  \n",
       "0          93.994          -36.4      4.857       5191.0  no  \n",
       "1          93.994          -36.4      4.857       5191.0  no  \n",
       "2          93.994          -36.4      4.857       5191.0  no  \n",
       "3          93.994          -36.4      4.857       5191.0  no  \n",
       "4          93.994          -36.4      4.857       5191.0  no  \n",
       "\n",
       "[5 rows x 21 columns]"
      ]
     },
     "execution_count": 4,
     "metadata": {},
     "output_type": "execute_result"
    }
   ],
   "source": [
    "df.head()"
   ]
  },
  {
   "cell_type": "code",
   "execution_count": null,
   "id": "7ff1d95d",
   "metadata": {},
   "outputs": [],
   "source": []
  },
  {
   "cell_type": "markdown",
   "id": "fd38af6f",
   "metadata": {},
   "source": [
    "### Problem 3: Understanding the Features\n",
    "\n",
    "\n",
    "Examine the data description below, and determine if any of the features are missing values or need to be coerced to a different data type.\n",
    "\n",
    "\n",
    "```\n",
    "Input variables:\n",
    "# bank client data:\n",
    "1 - age (numeric)\n",
    "2 - job : type of job (categorical: 'admin.','blue-collar','entrepreneur','housemaid','management','retired','self-employed','services','student','technician','unemployed','unknown')\n",
    "3 - marital : marital status (categorical: 'divorced','married','single','unknown'; note: 'divorced' means divorced or widowed)\n",
    "4 - education (categorical: 'basic.4y','basic.6y','basic.9y','high.school','illiterate','professional.course','university.degree','unknown')\n",
    "5 - default: has credit in default? (categorical: 'no','yes','unknown')\n",
    "6 - housing: has housing loan? (categorical: 'no','yes','unknown')\n",
    "7 - loan: has personal loan? (categorical: 'no','yes','unknown')\n",
    "# related with the last contact of the current campaign:\n",
    "8 - contact: contact communication type (categorical: 'cellular','telephone')\n",
    "9 - month: last contact month of year (categorical: 'jan', 'feb', 'mar', ..., 'nov', 'dec')\n",
    "10 - day_of_week: last contact day of the week (categorical: 'mon','tue','wed','thu','fri')\n",
    "11 - duration: last contact duration, in seconds (numeric). Important note: this attribute highly affects the output target (e.g., if duration=0 then y='no'). Yet, the duration is not known before a call is performed. Also, after the end of the call y is obviously known. Thus, this input should only be included for benchmark purposes and should be discarded if the intention is to have a realistic predictive model.\n",
    "# other attributes:\n",
    "12 - campaign: number of contacts performed during this campaign and for this client (numeric, includes last contact)\n",
    "13 - pdays: number of days that passed by after the client was last contacted from a previous campaign (numeric; 999 means client was not previously contacted)\n",
    "14 - previous: number of contacts performed before this campaign and for this client (numeric)\n",
    "15 - poutcome: outcome of the previous marketing campaign (categorical: 'failure','nonexistent','success')\n",
    "# social and economic context attributes\n",
    "16 - emp.var.rate: employment variation rate - quarterly indicator (numeric)\n",
    "17 - cons.price.idx: consumer price index - monthly indicator (numeric)\n",
    "18 - cons.conf.idx: consumer confidence index - monthly indicator (numeric)\n",
    "19 - euribor3m: euribor 3 month rate - daily indicator (numeric)\n",
    "20 - nr.employed: number of employees - quarterly indicator (numeric)\n",
    "\n",
    "Output variable (desired target):\n",
    "21 - y - has the client subscribed a term deposit? (binary: 'yes','no')\n",
    "```"
   ]
  },
  {
   "cell_type": "code",
   "execution_count": 5,
   "id": "dd1fd0de",
   "metadata": {
    "scrolled": false
   },
   "outputs": [
    {
     "name": "stdout",
     "output_type": "stream",
     "text": [
      "<class 'pandas.core.frame.DataFrame'>\n",
      "RangeIndex: 41188 entries, 0 to 41187\n",
      "Data columns (total 21 columns):\n",
      " #   Column          Non-Null Count  Dtype  \n",
      "---  ------          --------------  -----  \n",
      " 0   age             41188 non-null  int64  \n",
      " 1   job             41188 non-null  object \n",
      " 2   marital         41188 non-null  object \n",
      " 3   education       41188 non-null  object \n",
      " 4   default         41188 non-null  object \n",
      " 5   housing         41188 non-null  object \n",
      " 6   loan            41188 non-null  object \n",
      " 7   contact         41188 non-null  object \n",
      " 8   month           41188 non-null  object \n",
      " 9   day_of_week     41188 non-null  object \n",
      " 10  duration        41188 non-null  int64  \n",
      " 11  campaign        41188 non-null  int64  \n",
      " 12  pdays           41188 non-null  int64  \n",
      " 13  previous        41188 non-null  int64  \n",
      " 14  poutcome        41188 non-null  object \n",
      " 15  emp.var.rate    41188 non-null  float64\n",
      " 16  cons.price.idx  41188 non-null  float64\n",
      " 17  cons.conf.idx   41188 non-null  float64\n",
      " 18  euribor3m       41188 non-null  float64\n",
      " 19  nr.employed     41188 non-null  float64\n",
      " 20  y               41188 non-null  object \n",
      "dtypes: float64(5), int64(5), object(11)\n",
      "memory usage: 6.6+ MB\n"
     ]
    }
   ],
   "source": [
    "df.info()"
   ]
  },
  {
   "cell_type": "code",
   "execution_count": 6,
   "id": "a1b14349",
   "metadata": {},
   "outputs": [
    {
     "data": {
      "text/plain": [
       "4640"
      ]
     },
     "execution_count": 6,
     "metadata": {},
     "output_type": "execute_result"
    }
   ],
   "source": [
    "df[df['y'] == 'yes'].shape[0]"
   ]
  },
  {
   "cell_type": "code",
   "execution_count": 7,
   "id": "0e033d8c",
   "metadata": {},
   "outputs": [
    {
     "data": {
      "text/plain": [
       "36548"
      ]
     },
     "execution_count": 7,
     "metadata": {},
     "output_type": "execute_result"
    }
   ],
   "source": [
    "df[df['y'] == 'no'].shape[0]"
   ]
  },
  {
   "cell_type": "markdown",
   "id": "b402208e",
   "metadata": {},
   "source": [
    "The dataset is heavily unbalanced towards \"no\""
   ]
  },
  {
   "cell_type": "markdown",
   "id": "5470e202",
   "metadata": {},
   "source": [
    "#### 3.1 Missing Values"
   ]
  },
  {
   "cell_type": "markdown",
   "id": "44fb454b",
   "metadata": {},
   "source": [
    "The dataset appears complete without missing values."
   ]
  },
  {
   "cell_type": "code",
   "execution_count": 8,
   "id": "4f448259",
   "metadata": {
    "scrolled": false
   },
   "outputs": [
    {
     "data": {
      "text/plain": [
       "age               0\n",
       "job               0\n",
       "marital           0\n",
       "education         0\n",
       "default           0\n",
       "housing           0\n",
       "loan              0\n",
       "contact           0\n",
       "month             0\n",
       "day_of_week       0\n",
       "duration          0\n",
       "campaign          0\n",
       "pdays             0\n",
       "previous          0\n",
       "poutcome          0\n",
       "emp.var.rate      0\n",
       "cons.price.idx    0\n",
       "cons.conf.idx     0\n",
       "euribor3m         0\n",
       "nr.employed       0\n",
       "y                 0\n",
       "dtype: int64"
      ]
     },
     "execution_count": 8,
     "metadata": {},
     "output_type": "execute_result"
    }
   ],
   "source": [
    "#Check of NULL values\n",
    "df.isnull().sum()"
   ]
  },
  {
   "cell_type": "markdown",
   "id": "0e9cfdf1",
   "metadata": {},
   "source": [
    "#### 3.2 Check Duplicated Rows"
   ]
  },
  {
   "cell_type": "code",
   "execution_count": 9,
   "id": "0102a257",
   "metadata": {},
   "outputs": [
    {
     "data": {
      "text/plain": [
       "12"
      ]
     },
     "execution_count": 9,
     "metadata": {},
     "output_type": "execute_result"
    }
   ],
   "source": [
    "#Check of duplicates\n",
    "df.duplicated().sum()"
   ]
  },
  {
   "cell_type": "code",
   "execution_count": 10,
   "id": "bc659e57",
   "metadata": {},
   "outputs": [],
   "source": [
    "# Drop duplicates\n",
    "df = df.drop_duplicates()"
   ]
  },
  {
   "cell_type": "markdown",
   "id": "8bb7a532",
   "metadata": {},
   "source": [
    "#### 3.3 Inspection of Values in the Dataset"
   ]
  },
  {
   "cell_type": "code",
   "execution_count": 11,
   "id": "17bae150",
   "metadata": {},
   "outputs": [
    {
     "data": {
      "text/plain": [
       "age                 78\n",
       "job                 12\n",
       "marital              4\n",
       "education            8\n",
       "default              3\n",
       "housing              3\n",
       "loan                 3\n",
       "contact              2\n",
       "month               10\n",
       "day_of_week          5\n",
       "duration          1544\n",
       "campaign            42\n",
       "pdays               27\n",
       "previous             8\n",
       "poutcome             3\n",
       "emp.var.rate        10\n",
       "cons.price.idx      26\n",
       "cons.conf.idx       26\n",
       "euribor3m          316\n",
       "nr.employed         11\n",
       "y                    2\n",
       "dtype: int64"
      ]
     },
     "execution_count": 11,
     "metadata": {},
     "output_type": "execute_result"
    }
   ],
   "source": [
    "#Number of unique values\n",
    "df.nunique()"
   ]
  },
  {
   "cell_type": "code",
   "execution_count": 12,
   "id": "d9047bf1",
   "metadata": {},
   "outputs": [
    {
     "name": "stdout",
     "output_type": "stream",
     "text": [
      "'age'values:\n",
      "[56 57 37 40 45 59 41 24 25 29 35 54 46 50 39 30 55 49 34 52 58 32 38 44\n",
      " 42 60 53 47 51 48 33 31 43 36 28 27 26 22 23 20 21 61 19 18 70 66 76 67\n",
      " 73 88 95 77 68 75 63 80 62 65 72 82 64 71 69 78 85 79 83 81 74 17 87 91\n",
      " 86 98 94 84 92 89]\n",
      "*************************************************\n",
      "'job'values:\n",
      "['housemaid' 'services' 'admin.' 'blue-collar' 'technician' 'retired'\n",
      " 'management' 'unemployed' 'self-employed' 'unknown' 'entrepreneur'\n",
      " 'student']\n",
      "*************************************************\n",
      "'marital'values:\n",
      "['married' 'single' 'divorced' 'unknown']\n",
      "*************************************************\n",
      "'education'values:\n",
      "['basic.4y' 'high.school' 'basic.6y' 'basic.9y' 'professional.course'\n",
      " 'unknown' 'university.degree' 'illiterate']\n",
      "*************************************************\n",
      "'default'values:\n",
      "['no' 'unknown' 'yes']\n",
      "*************************************************\n",
      "'housing'values:\n",
      "['no' 'yes' 'unknown']\n",
      "*************************************************\n",
      "'loan'values:\n",
      "['no' 'yes' 'unknown']\n",
      "*************************************************\n",
      "'contact'values:\n",
      "['telephone' 'cellular']\n",
      "*************************************************\n",
      "'month'values:\n",
      "['may' 'jun' 'jul' 'aug' 'oct' 'nov' 'dec' 'mar' 'apr' 'sep']\n",
      "*************************************************\n",
      "'day_of_week'values:\n",
      "['mon' 'tue' 'wed' 'thu' 'fri']\n",
      "*************************************************\n",
      "'duration'values:\n",
      "[ 261  149  226 ... 1246 1556 1868]\n",
      "*************************************************\n",
      "'campaign'values:\n",
      "[ 1  2  3  4  5  6  7  8  9 10 11 12 13 19 18 23 14 22 25 16 17 15 20 56\n",
      " 39 35 42 28 26 27 32 21 24 29 31 30 41 37 40 33 34 43]\n",
      "*************************************************\n",
      "'pdays'values:\n",
      "[999   6   4   3   5   1   0  10   7   8   9  11   2  12  13  14  15  16\n",
      "  21  17  18  22  25  26  19  27  20]\n",
      "*************************************************\n",
      "'previous'values:\n",
      "[0 1 2 3 4 5 6 7]\n",
      "*************************************************\n",
      "'poutcome'values:\n",
      "['nonexistent' 'failure' 'success']\n",
      "*************************************************\n",
      "'emp.var.rate'values:\n",
      "[ 1.1  1.4 -0.1 -0.2 -1.8 -2.9 -3.4 -3.  -1.7 -1.1]\n",
      "*************************************************\n",
      "'cons.price.idx'values:\n",
      "[93.994 94.465 93.918 93.444 93.798 93.2   92.756 92.843 93.075 92.893\n",
      " 92.963 92.469 92.201 92.379 92.431 92.649 92.713 93.369 93.749 93.876\n",
      " 94.055 94.215 94.027 94.199 94.601 94.767]\n",
      "*************************************************\n",
      "'cons.conf.idx'values:\n",
      "[-36.4 -41.8 -42.7 -36.1 -40.4 -42.  -45.9 -50.  -47.1 -46.2 -40.8 -33.6\n",
      " -31.4 -29.8 -26.9 -30.1 -33.  -34.8 -34.6 -40.  -39.8 -40.3 -38.3 -37.5\n",
      " -49.5 -50.8]\n",
      "*************************************************\n",
      "'euribor3m'values:\n",
      "[4.857 4.856 4.855 4.859 4.86  4.858 4.864 4.865 4.866 4.967 4.961 4.959\n",
      " 4.958 4.96  4.962 4.955 4.947 4.956 4.966 4.963 4.957 4.968 4.97  4.965\n",
      " 4.964 5.045 5.    4.936 4.921 4.918 4.912 4.827 4.794 4.76  4.733 4.7\n",
      " 4.663 4.592 4.474 4.406 4.343 4.286 4.245 4.223 4.191 4.153 4.12  4.076\n",
      " 4.021 3.901 3.879 3.853 3.816 3.743 3.669 3.563 3.488 3.428 3.329 3.282\n",
      " 3.053 1.811 1.799 1.778 1.757 1.726 1.703 1.687 1.663 1.65  1.64  1.629\n",
      " 1.614 1.602 1.584 1.574 1.56  1.556 1.548 1.538 1.531 1.52  1.51  1.498\n",
      " 1.483 1.479 1.466 1.453 1.445 1.435 1.423 1.415 1.41  1.405 1.406 1.4\n",
      " 1.392 1.384 1.372 1.365 1.354 1.344 1.334 1.327 1.313 1.299 1.291 1.281\n",
      " 1.266 1.25  1.244 1.259 1.264 1.27  1.262 1.26  1.268 1.286 1.252 1.235\n",
      " 1.224 1.215 1.206 1.099 1.085 1.072 1.059 1.048 1.044 1.029 1.018 1.007\n",
      " 0.996 0.979 0.969 0.944 0.937 0.933 0.927 0.921 0.914 0.908 0.903 0.899\n",
      " 0.884 0.883 0.881 0.879 0.873 0.869 0.861 0.859 0.854 0.851 0.849 0.843\n",
      " 0.838 0.834 0.829 0.825 0.821 0.819 0.813 0.809 0.803 0.797 0.788 0.781\n",
      " 0.778 0.773 0.771 0.77  0.768 0.766 0.762 0.755 0.749 0.743 0.741 0.739\n",
      " 0.75  0.753 0.754 0.752 0.744 0.74  0.742 0.737 0.735 0.733 0.73  0.731\n",
      " 0.728 0.724 0.722 0.72  0.719 0.716 0.715 0.714 0.718 0.721 0.717 0.712\n",
      " 0.71  0.709 0.708 0.706 0.707 0.7   0.655 0.654 0.653 0.652 0.651 0.65\n",
      " 0.649 0.646 0.644 0.643 0.639 0.637 0.635 0.636 0.634 0.638 0.64  0.642\n",
      " 0.645 0.659 0.663 0.668 0.672 0.677 0.682 0.683 0.684 0.685 0.688 0.69\n",
      " 0.692 0.695 0.697 0.699 0.701 0.702 0.704 0.711 0.713 0.723 0.727 0.729\n",
      " 0.732 0.748 0.761 0.767 0.782 0.79  0.793 0.802 0.81  0.822 0.827 0.835\n",
      " 0.84  0.846 0.87  0.876 0.885 0.889 0.893 0.896 0.898 0.9   0.904 0.905\n",
      " 0.895 0.894 0.891 0.89  0.888 0.886 0.882 0.88  0.878 0.877 0.942 0.953\n",
      " 0.956 0.959 0.965 0.972 0.977 0.982 0.985 0.987 0.993 1.    1.008 1.016\n",
      " 1.025 1.032 1.037 1.043 1.045 1.047 1.05  1.049 1.046 1.041 1.04  1.039\n",
      " 1.035 1.03  1.031 1.028]\n",
      "*************************************************\n",
      "'nr.employed'values:\n",
      "[5191.  5228.1 5195.8 5176.3 5099.1 5076.2 5017.5 5023.5 5008.7 4991.6\n",
      " 4963.6]\n",
      "*************************************************\n",
      "'y'values:\n",
      "['no' 'yes']\n",
      "*************************************************\n"
     ]
    }
   ],
   "source": [
    "#Inspection of Values of the features\n",
    "for col in df:\n",
    "    print(\"'\" + col + \"'\" + 'values:')\n",
    "    print(df[col].unique())\n",
    "    print('*************************************************')"
   ]
  },
  {
   "cell_type": "markdown",
   "id": "e3472656",
   "metadata": {},
   "source": [
    "#### 3.4 Managment of 'unknown' Values"
   ]
  },
  {
   "cell_type": "markdown",
   "id": "af11f19d",
   "metadata": {},
   "source": [
    "Some fields have values `unknown`. I'd like to understand how much of the whole dataset is affected by this values.\n",
    "Fields considered are:\n",
    "- `job`\n",
    "- `marital`\n",
    "- `education`\n",
    "- `default`\n",
    "- `housing`\n",
    "- `loan`"
   ]
  },
  {
   "cell_type": "code",
   "execution_count": 13,
   "id": "edee3c91",
   "metadata": {},
   "outputs": [
    {
     "name": "stdout",
     "output_type": "stream",
     "text": [
      "Percentage of rows with \"unknown\" job: 0.8\n",
      "Percentage of rows with \"unknown\" marital: 0.2\n",
      "Percentage of rows with \"unknown\" education: 4.2\n",
      "Percentage of rows with \"unknown\" default: 20.9\n",
      "Percentage of rows with \"unknown\" housing: 2.4\n",
      "Percentage of rows with \"unknown\" loan: 2.4\n"
     ]
    }
   ],
   "source": [
    "unknown_job = df[df['job'] == 'unknown'].shape[0] / df.shape[0] * 100\n",
    "unknown_marital = df[df['marital'] == 'unknown'].shape[0] / df.shape[0] * 100\n",
    "unknown_education = df[df['education'] == 'unknown'].shape[0] / df.shape[0] * 100\n",
    "unknown_default = df[df['default'] == 'unknown'].shape[0] / df.shape[0] * 100\n",
    "unknown_housing = df[df['housing'] == 'unknown'].shape[0] / df.shape[0] * 100\n",
    "unknown_loan = df[df['loan'] == 'unknown'].shape[0] / df.shape[0] * 100\n",
    "\n",
    "print(f'Percentage of rows with \"unknown\" job: {np.round(unknown_job, 1)}')\n",
    "print(f'Percentage of rows with \"unknown\" marital: {np.round(unknown_marital, 1)}')\n",
    "print(f'Percentage of rows with \"unknown\" education: {np.round(unknown_education, 1)}')\n",
    "print(f'Percentage of rows with \"unknown\" default: {np.round(unknown_default, 1)}')\n",
    "print(f'Percentage of rows with \"unknown\" housing: {np.round(unknown_housing, 1)}')\n",
    "print(f'Percentage of rows with \"unknown\" loan: {np.round(unknown_loan, 1)}')"
   ]
  },
  {
   "cell_type": "markdown",
   "id": "81c8d3b8",
   "metadata": {},
   "source": [
    "Percentages are pretty low (excepted `default` which is still manageble though). I decide to eliminate rows with \"unknown\" values: they can be indeed considered as 'missing' values."
   ]
  },
  {
   "cell_type": "code",
   "execution_count": 14,
   "id": "35f0c8e0",
   "metadata": {},
   "outputs": [],
   "source": [
    "df = df[df['job'] != 'unknown']\n",
    "df = df[df['marital'] != 'unknown']\n",
    "df = df[df['education'] != 'unknown']\n",
    "df = df[df['default'] != 'unknown']\n",
    "df = df[df['housing'] != 'unknown']\n",
    "df = df[df['loan'] != 'unknown']"
   ]
  },
  {
   "cell_type": "code",
   "execution_count": 15,
   "id": "c390028b",
   "metadata": {},
   "outputs": [
    {
     "name": "stdout",
     "output_type": "stream",
     "text": [
      "Percentage of rows with \"unknown\" job: 0.0\n",
      "Percentage of rows with \"unknown\" marital: 0.0\n",
      "Percentage of rows with \"unknown\" education: 0.0\n",
      "Percentage of rows with \"unknown\" default: 0.0\n",
      "Percentage of rows with \"unknown\" housing: 0.0\n",
      "Percentage of rows with \"unknown\" loan: 0.0\n"
     ]
    }
   ],
   "source": [
    "#Check that 'unknown' values disappeared\n",
    "\n",
    "unknown_job = df[df['job'] == 'unknown'].shape[0] / df.shape[0] * 100\n",
    "unknown_marital = df[df['marital'] == 'unknown'].shape[0] / df.shape[0] * 100\n",
    "unknown_education = df[df['education'] == 'unknown'].shape[0] / df.shape[0] * 100\n",
    "unknown_default = df[df['default'] == 'unknown'].shape[0] / df.shape[0] * 100\n",
    "unknown_housing = df[df['housing'] == 'unknown'].shape[0] / df.shape[0] * 100\n",
    "unknown_loan = df[df['loan'] == 'unknown'].shape[0] / df.shape[0] * 100\n",
    "\n",
    "print(f'Percentage of rows with \"unknown\" job: {np.round(unknown_job, 1)}')\n",
    "print(f'Percentage of rows with \"unknown\" marital: {np.round(unknown_marital, 1)}')\n",
    "print(f'Percentage of rows with \"unknown\" education: {np.round(unknown_education, 1)}')\n",
    "print(f'Percentage of rows with \"unknown\" default: {np.round(unknown_default, 1)}')\n",
    "print(f'Percentage of rows with \"unknown\" housing: {np.round(unknown_housing, 1)}')\n",
    "print(f'Percentage of rows with \"unknown\" loan: {np.round(unknown_loan, 1)}')"
   ]
  },
  {
   "cell_type": "code",
   "execution_count": 16,
   "id": "ac64ad3f",
   "metadata": {
    "scrolled": false
   },
   "outputs": [
    {
     "name": "stdout",
     "output_type": "stream",
     "text": [
      "'age'values:\n",
      "[56 37 40 59 24 25 29 57 35 50 30 55 41 54 34 52 32 38 45 39 60 53 51 48\n",
      " 44 31 49 33 42 36 43 46 28 58 27 47 26 22 23 20 21 18 70 61 66 76 67 73\n",
      " 88 95 19 68 75 63 62 65 72 64 71 69 78 85 80 79 77 83 81 74 82 17 87 91\n",
      " 94 86 84 89]\n",
      "*************************************************\n",
      "'job'values:\n",
      "['housemaid' 'services' 'admin.' 'technician' 'blue-collar' 'unemployed'\n",
      " 'retired' 'entrepreneur' 'management' 'student' 'self-employed']\n",
      "*************************************************\n",
      "'marital'values:\n",
      "['married' 'single' 'divorced']\n",
      "*************************************************\n",
      "'education'values:\n",
      "['basic.4y' 'high.school' 'basic.6y' 'professional.course' 'basic.9y'\n",
      " 'university.degree' 'illiterate']\n",
      "*************************************************\n",
      "'default'values:\n",
      "['no' 'yes']\n",
      "*************************************************\n",
      "'housing'values:\n",
      "['no' 'yes']\n",
      "*************************************************\n",
      "'loan'values:\n",
      "['no' 'yes']\n",
      "*************************************************\n",
      "'contact'values:\n",
      "['telephone' 'cellular']\n",
      "*************************************************\n",
      "'month'values:\n",
      "['may' 'jun' 'jul' 'aug' 'oct' 'nov' 'dec' 'mar' 'apr' 'sep']\n",
      "*************************************************\n",
      "'day_of_week'values:\n",
      "['mon' 'tue' 'wed' 'thu' 'fri']\n",
      "*************************************************\n",
      "'duration'values:\n",
      "[ 261  226  151 ... 1246 1556 1868]\n",
      "*************************************************\n",
      "'campaign'values:\n",
      "[ 1  2  3  4  5  6  7  8  9 10 12 11 18 23 14 22 25 17 15 20 19 39 13 42\n",
      " 16 28 26 32 21 24 29 31 30 35 41 37 27 40 43 34 33]\n",
      "*************************************************\n",
      "'pdays'values:\n",
      "[999   6   4   5   1   0   3  10   7   9  11   8   2  12  13  14  15  16\n",
      "  21  17  18  22  25  26  19  27]\n",
      "*************************************************\n",
      "'previous'values:\n",
      "[0 1 2 3 4 5 6 7]\n",
      "*************************************************\n",
      "'poutcome'values:\n",
      "['nonexistent' 'failure' 'success']\n",
      "*************************************************\n",
      "'emp.var.rate'values:\n",
      "[ 1.1  1.4 -0.1 -0.2 -1.8 -2.9 -3.4 -3.  -1.7 -1.1]\n",
      "*************************************************\n",
      "'cons.price.idx'values:\n",
      "[93.994 94.465 93.918 93.444 93.798 93.2   92.756 92.843 93.075 92.893\n",
      " 92.963 92.469 92.201 92.379 92.431 92.649 92.713 93.369 93.749 93.876\n",
      " 94.055 94.215 94.027 94.199 94.601 94.767]\n",
      "*************************************************\n",
      "'cons.conf.idx'values:\n",
      "[-36.4 -41.8 -42.7 -36.1 -40.4 -42.  -45.9 -50.  -47.1 -46.2 -40.8 -33.6\n",
      " -31.4 -29.8 -26.9 -30.1 -33.  -34.8 -34.6 -40.  -39.8 -40.3 -38.3 -37.5\n",
      " -49.5 -50.8]\n",
      "*************************************************\n",
      "'euribor3m'values:\n",
      "[4.857 4.856 4.855 4.859 4.86  4.858 4.864 4.865 4.866 4.967 4.961 4.959\n",
      " 4.958 4.96  4.962 4.955 4.947 4.956 4.966 4.963 4.957 4.968 4.97  4.965\n",
      " 4.964 5.045 5.    4.936 4.921 4.918 4.912 4.827 4.794 4.76  4.733 4.7\n",
      " 4.663 4.592 4.474 4.406 4.343 4.286 4.245 4.223 4.191 4.153 4.12  4.076\n",
      " 4.021 3.901 3.879 3.853 3.816 3.743 3.669 3.563 3.488 3.428 3.329 3.282\n",
      " 3.053 1.811 1.799 1.778 1.757 1.726 1.703 1.687 1.663 1.65  1.64  1.629\n",
      " 1.614 1.602 1.584 1.56  1.556 1.548 1.538 1.531 1.52  1.51  1.498 1.483\n",
      " 1.479 1.466 1.453 1.445 1.435 1.423 1.415 1.41  1.405 1.406 1.4   1.392\n",
      " 1.384 1.372 1.365 1.354 1.344 1.334 1.327 1.313 1.299 1.291 1.281 1.266\n",
      " 1.25  1.244 1.259 1.264 1.27  1.262 1.26  1.268 1.286 1.252 1.235 1.224\n",
      " 1.215 1.206 1.099 1.085 1.072 1.059 1.048 1.044 1.029 1.018 1.007 0.979\n",
      " 0.969 0.944 0.937 0.933 0.927 0.921 0.914 0.908 0.903 0.899 0.884 0.883\n",
      " 0.881 0.879 0.873 0.869 0.861 0.859 0.854 0.851 0.849 0.843 0.838 0.834\n",
      " 0.829 0.825 0.821 0.819 0.813 0.809 0.803 0.797 0.788 0.781 0.778 0.773\n",
      " 0.771 0.77  0.768 0.766 0.762 0.755 0.749 0.743 0.741 0.739 0.75  0.753\n",
      " 0.754 0.752 0.744 0.74  0.742 0.737 0.735 0.733 0.73  0.731 0.728 0.724\n",
      " 0.722 0.72  0.719 0.716 0.715 0.714 0.718 0.721 0.717 0.712 0.71  0.709\n",
      " 0.708 0.706 0.707 0.7   0.655 0.654 0.653 0.652 0.651 0.65  0.649 0.646\n",
      " 0.644 0.643 0.639 0.637 0.635 0.636 0.634 0.638 0.64  0.642 0.645 0.659\n",
      " 0.663 0.668 0.672 0.677 0.682 0.683 0.684 0.685 0.688 0.69  0.692 0.695\n",
      " 0.697 0.699 0.701 0.702 0.704 0.711 0.713 0.723 0.727 0.729 0.732 0.748\n",
      " 0.761 0.767 0.782 0.79  0.793 0.802 0.81  0.822 0.827 0.835 0.84  0.846\n",
      " 0.87  0.876 0.885 0.889 0.893 0.896 0.898 0.9   0.904 0.905 0.895 0.894\n",
      " 0.891 0.89  0.888 0.886 0.882 0.88  0.878 0.877 0.942 0.953 0.956 0.959\n",
      " 0.965 0.972 0.977 0.982 0.985 0.987 0.993 1.    1.008 1.016 1.025 1.032\n",
      " 1.037 1.043 1.045 1.047 1.05  1.049 1.046 1.041 1.04  1.039 1.035 1.03\n",
      " 1.031 1.028]\n",
      "*************************************************\n",
      "'nr.employed'values:\n",
      "[5191.  5228.1 5195.8 5176.3 5099.1 5076.2 5017.5 5023.5 5008.7 4991.6\n",
      " 4963.6]\n",
      "*************************************************\n",
      "'y'values:\n",
      "['no' 'yes']\n",
      "*************************************************\n"
     ]
    }
   ],
   "source": [
    "#Inspection of values of the features after removing 'unknown' values\n",
    "for col in df:\n",
    "    print(\"'\" + col + \"'\" + 'values:')\n",
    "    print(df[col].unique())\n",
    "    print('*************************************************')"
   ]
  },
  {
   "cell_type": "code",
   "execution_count": 17,
   "id": "2702823b",
   "metadata": {},
   "outputs": [
    {
     "data": {
      "text/plain": [
       "3858"
      ]
     },
     "execution_count": 17,
     "metadata": {},
     "output_type": "execute_result"
    }
   ],
   "source": [
    "df[df['y'] == 'yes'].shape[0]"
   ]
  },
  {
   "cell_type": "code",
   "execution_count": 18,
   "id": "7b20430f",
   "metadata": {},
   "outputs": [
    {
     "data": {
      "text/plain": [
       "26620"
      ]
     },
     "execution_count": 18,
     "metadata": {},
     "output_type": "execute_result"
    }
   ],
   "source": [
    "df[df['y'] == 'no'].shape[0]"
   ]
  },
  {
   "cell_type": "code",
   "execution_count": null,
   "id": "bfecb233",
   "metadata": {},
   "outputs": [],
   "source": []
  },
  {
   "cell_type": "markdown",
   "id": "038036dc",
   "metadata": {},
   "source": [
    "#### 3.5 Considerations about 'duration' feature"
   ]
  },
  {
   "cell_type": "markdown",
   "id": "44e8c2b9",
   "metadata": {},
   "source": [
    "Reading the documentation of the dataset, this is the description of feature `duration`:\n",
    "\n",
    "\n",
    "\"last contact duration, in seconds (numeric). Important note: this attribute highly affects the output target (e.g., if duration=0 then y='no'). Yet, the duration is not known before a call is performed. Also, after the end of the call y is obviously known. Thus, this input should only be included for benchmark purposes and should be discarded if the intention is to have a realistic predictive model.\"\n",
    "\n",
    "\n",
    "This means that `duration` is somehow \"too much correlated\" with target value. That is why it is dropped from the analysis."
   ]
  },
  {
   "cell_type": "code",
   "execution_count": 19,
   "id": "bafb1542",
   "metadata": {},
   "outputs": [],
   "source": [
    "df = df.drop(['duration'], axis=1)"
   ]
  },
  {
   "cell_type": "code",
   "execution_count": 20,
   "id": "5965ada1",
   "metadata": {
    "scrolled": false
   },
   "outputs": [
    {
     "name": "stdout",
     "output_type": "stream",
     "text": [
      "<class 'pandas.core.frame.DataFrame'>\n",
      "Int64Index: 30478 entries, 0 to 41187\n",
      "Data columns (total 20 columns):\n",
      " #   Column          Non-Null Count  Dtype  \n",
      "---  ------          --------------  -----  \n",
      " 0   age             30478 non-null  int64  \n",
      " 1   job             30478 non-null  object \n",
      " 2   marital         30478 non-null  object \n",
      " 3   education       30478 non-null  object \n",
      " 4   default         30478 non-null  object \n",
      " 5   housing         30478 non-null  object \n",
      " 6   loan            30478 non-null  object \n",
      " 7   contact         30478 non-null  object \n",
      " 8   month           30478 non-null  object \n",
      " 9   day_of_week     30478 non-null  object \n",
      " 10  campaign        30478 non-null  int64  \n",
      " 11  pdays           30478 non-null  int64  \n",
      " 12  previous        30478 non-null  int64  \n",
      " 13  poutcome        30478 non-null  object \n",
      " 14  emp.var.rate    30478 non-null  float64\n",
      " 15  cons.price.idx  30478 non-null  float64\n",
      " 16  cons.conf.idx   30478 non-null  float64\n",
      " 17  euribor3m       30478 non-null  float64\n",
      " 18  nr.employed     30478 non-null  float64\n",
      " 19  y               30478 non-null  object \n",
      "dtypes: float64(5), int64(4), object(11)\n",
      "memory usage: 4.9+ MB\n"
     ]
    }
   ],
   "source": [
    "df.info()"
   ]
  },
  {
   "cell_type": "markdown",
   "id": "a0176d17",
   "metadata": {},
   "source": [
    "#### 3.6 Understanding Distribution of Target Feature (y)"
   ]
  },
  {
   "cell_type": "code",
   "execution_count": 21,
   "id": "6384ebd5",
   "metadata": {
    "scrolled": false
   },
   "outputs": [
    {
     "data": {
      "image/png": "[encoded data removed]",
      "text/plain": [
       "<Figure size 640x480 with 1 Axes>"
      ]
     },
     "metadata": {},
     "output_type": "display_data"
    },
    {
     "data": {
      "text/html": [
       "<div>\n",
       "<style scoped>\n",
       "    .dataframe tbody tr th:only-of-type {\n",
       "        vertical-align: middle;\n",
       "    }\n",
       "\n",
       "    .dataframe tbody tr th {\n",
       "        vertical-align: top;\n",
       "    }\n",
       "\n",
       "    .dataframe thead th {\n",
       "        text-align: right;\n",
       "    }\n",
       "</style>\n",
       "<table border=\"1\" class=\"dataframe\">\n",
       "  <thead>\n",
       "    <tr style=\"text-align: right;\">\n",
       "      <th></th>\n",
       "      <th>Category</th>\n",
       "      <th>Percentage</th>\n",
       "    </tr>\n",
       "  </thead>\n",
       "  <tbody>\n",
       "    <tr>\n",
       "      <th>0</th>\n",
       "      <td>no</td>\n",
       "      <td>0.873417</td>\n",
       "    </tr>\n",
       "    <tr>\n",
       "      <th>1</th>\n",
       "      <td>yes</td>\n",
       "      <td>0.126583</td>\n",
       "    </tr>\n",
       "  </tbody>\n",
       "</table>\n",
       "</div>"
      ],
      "text/plain": [
       "  Category  Percentage\n",
       "0       no    0.873417\n",
       "1      yes    0.126583"
      ]
     },
     "execution_count": 21,
     "metadata": {},
     "output_type": "execute_result"
    }
   ],
   "source": [
    "data = pd.DataFrame(df['y'].value_counts(normalize=True)).reset_index()\n",
    "data.columns = ['Category', 'Percentage']  # Rename columns for clarity\n",
    "\n",
    "plt.rcdefaults()\n",
    "palette = {'yes': '#ff9999', 'no': '#cc0000'}  # Light red for 'yes', dark red for 'no'\n",
    "plt.title(\"Target Feature (%) - Has the Client Subscribed a Term Deposit?\")\n",
    "sns.barplot(x='Category', y='Percentage', data=data, palette=palette)\n",
    "plt.show()\n",
    "\n",
    "data"
   ]
  },
  {
   "cell_type": "markdown",
   "id": "96609804",
   "metadata": {},
   "source": [
    "The dataset appears clearly very unbalanced toward \"no\" group."
   ]
  },
  {
   "cell_type": "code",
   "execution_count": null,
   "id": "fa69d7da",
   "metadata": {},
   "outputs": [],
   "source": []
  },
  {
   "cell_type": "markdown",
   "id": "b6a1f4a8",
   "metadata": {},
   "source": [
    "#### 2.7 Analysis of Numerical Features ( with Outliners and Distribution)"
   ]
  },
  {
   "cell_type": "code",
   "execution_count": 22,
   "id": "bb176cba",
   "metadata": {
    "scrolled": false
   },
   "outputs": [
    {
     "data": {
      "image/png": "[encoded data removed]",
      "text/plain": [
       "<Figure size 2400x2400 with 20 Axes>"
      ]
     },
     "metadata": {},
     "output_type": "display_data"
    }
   ],
   "source": [
    "# Variables to plot in a matrix of graphs\n",
    "variables = ['age', 'campaign', 'pdays', 'previous', 'emp.var.rate', 'cons.price.idx',\n",
    "             'cons.conf.idx', 'euribor3m', 'nr.employed']\n",
    "\n",
    "# Create a color palette with a scale of reds\n",
    "colors = sns.color_palette(\"Reds\", n_colors=len(variables))\n",
    "\n",
    "# Create a 5x4 grid of subplots\n",
    "fig, axes = plt.subplots(nrows=5, ncols=4, figsize=(24, 24))\n",
    "axes = axes.flatten()\n",
    "\n",
    "# Loop through the variables and create plots\n",
    "for i, var in enumerate(variables):\n",
    "    # Histogram\n",
    "    ax1 = sns.histplot(data=df, x=var, kde=True, color=colors[i], bins=30, ax=axes[2*i])\n",
    "    ax1.set_xlabel(var, fontsize=14)\n",
    "    \n",
    "    # Boxplot\n",
    "    ax2 = sns.boxplot(x=df[var], showmeans=True, meanprops={\"marker\":\"o\",\n",
    "                                                            \"markerfacecolor\":\"white\",\n",
    "                                                            \"markeredgecolor\":\"black\",\n",
    "                                                            \"markersize\":\"10\"},\n",
    "                      ax=axes[2*i + 1], color=colors[i])\n",
    "    ax2.set_xlabel(var, fontsize=14)\n",
    "\n",
    "# Hide unused axes\n",
    "for j in range(2*len(variables), len(axes)):\n",
    "    axes[j].set_visible(False)\n",
    "\n",
    "# Adjust layout with spacing\n",
    "plt.subplots_adjust(wspace=0.3, hspace=0.3)  # Adjust the space between plots\n",
    "\n",
    "# Display the plot\n",
    "plt.show()"
   ]
  },
  {
   "cell_type": "markdown",
   "id": "14a886c9",
   "metadata": {},
   "source": [
    "Some of these features seem very umbalanced. However they generally make sense in context. The only numeric features that I would 'adjust' are `age` and `pdays`.\n",
    "\n",
    "`age` can be rebalanced by removing the outliners and center the population inside the quartiles. Regarding `pdays`, this has an arbitrary value of 999 when the consumer has never been contacted. In this case with the vast majority of the dataset 'never contacted' (96%), I believe the easiest approach is transforming this feature into a binary one. The original `pdays` column is removed, and a new binary one called `contacted` is introduced."
   ]
  },
  {
   "cell_type": "code",
   "execution_count": 23,
   "id": "f817ce22",
   "metadata": {},
   "outputs": [
    {
     "data": {
      "text/html": [
       "<div>\n",
       "<style scoped>\n",
       "    .dataframe tbody tr th:only-of-type {\n",
       "        vertical-align: middle;\n",
       "    }\n",
       "\n",
       "    .dataframe tbody tr th {\n",
       "        vertical-align: top;\n",
       "    }\n",
       "\n",
       "    .dataframe thead th {\n",
       "        text-align: right;\n",
       "    }\n",
       "</style>\n",
       "<table border=\"1\" class=\"dataframe\">\n",
       "  <thead>\n",
       "    <tr style=\"text-align: right;\">\n",
       "      <th></th>\n",
       "      <th>pdays</th>\n",
       "    </tr>\n",
       "  </thead>\n",
       "  <tbody>\n",
       "    <tr>\n",
       "      <th>27</th>\n",
       "      <td>0.000033</td>\n",
       "    </tr>\n",
       "    <tr>\n",
       "      <th>25</th>\n",
       "      <td>0.000033</td>\n",
       "    </tr>\n",
       "    <tr>\n",
       "      <th>26</th>\n",
       "      <td>0.000033</td>\n",
       "    </tr>\n",
       "    <tr>\n",
       "      <th>21</th>\n",
       "      <td>0.000066</td>\n",
       "    </tr>\n",
       "    <tr>\n",
       "      <th>19</th>\n",
       "      <td>0.000098</td>\n",
       "    </tr>\n",
       "    <tr>\n",
       "      <th>22</th>\n",
       "      <td>0.000098</td>\n",
       "    </tr>\n",
       "    <tr>\n",
       "      <th>18</th>\n",
       "      <td>0.000164</td>\n",
       "    </tr>\n",
       "    <tr>\n",
       "      <th>17</th>\n",
       "      <td>0.000197</td>\n",
       "    </tr>\n",
       "    <tr>\n",
       "      <th>16</th>\n",
       "      <td>0.000262</td>\n",
       "    </tr>\n",
       "    <tr>\n",
       "      <th>8</th>\n",
       "      <td>0.000427</td>\n",
       "    </tr>\n",
       "    <tr>\n",
       "      <th>0</th>\n",
       "      <td>0.000459</td>\n",
       "    </tr>\n",
       "    <tr>\n",
       "      <th>14</th>\n",
       "      <td>0.000558</td>\n",
       "    </tr>\n",
       "    <tr>\n",
       "      <th>1</th>\n",
       "      <td>0.000689</td>\n",
       "    </tr>\n",
       "    <tr>\n",
       "      <th>15</th>\n",
       "      <td>0.000722</td>\n",
       "    </tr>\n",
       "    <tr>\n",
       "      <th>11</th>\n",
       "      <td>0.000820</td>\n",
       "    </tr>\n",
       "    <tr>\n",
       "      <th>13</th>\n",
       "      <td>0.001083</td>\n",
       "    </tr>\n",
       "    <tr>\n",
       "      <th>10</th>\n",
       "      <td>0.001312</td>\n",
       "    </tr>\n",
       "    <tr>\n",
       "      <th>5</th>\n",
       "      <td>0.001411</td>\n",
       "    </tr>\n",
       "    <tr>\n",
       "      <th>12</th>\n",
       "      <td>0.001641</td>\n",
       "    </tr>\n",
       "    <tr>\n",
       "      <th>7</th>\n",
       "      <td>0.001641</td>\n",
       "    </tr>\n",
       "    <tr>\n",
       "      <th>9</th>\n",
       "      <td>0.001739</td>\n",
       "    </tr>\n",
       "    <tr>\n",
       "      <th>2</th>\n",
       "      <td>0.001739</td>\n",
       "    </tr>\n",
       "    <tr>\n",
       "      <th>4</th>\n",
       "      <td>0.003347</td>\n",
       "    </tr>\n",
       "    <tr>\n",
       "      <th>6</th>\n",
       "      <td>0.011910</td>\n",
       "    </tr>\n",
       "    <tr>\n",
       "      <th>3</th>\n",
       "      <td>0.012501</td>\n",
       "    </tr>\n",
       "    <tr>\n",
       "      <th>999</th>\n",
       "      <td>0.957018</td>\n",
       "    </tr>\n",
       "  </tbody>\n",
       "</table>\n",
       "</div>"
      ],
      "text/plain": [
       "        pdays\n",
       "27   0.000033\n",
       "25   0.000033\n",
       "26   0.000033\n",
       "21   0.000066\n",
       "19   0.000098\n",
       "22   0.000098\n",
       "18   0.000164\n",
       "17   0.000197\n",
       "16   0.000262\n",
       "8    0.000427\n",
       "0    0.000459\n",
       "14   0.000558\n",
       "1    0.000689\n",
       "15   0.000722\n",
       "11   0.000820\n",
       "13   0.001083\n",
       "10   0.001312\n",
       "5    0.001411\n",
       "12   0.001641\n",
       "7    0.001641\n",
       "9    0.001739\n",
       "2    0.001739\n",
       "4    0.003347\n",
       "6    0.011910\n",
       "3    0.012501\n",
       "999  0.957018"
      ]
     },
     "execution_count": 23,
     "metadata": {},
     "output_type": "execute_result"
    }
   ],
   "source": [
    "pd.DataFrame(df['pdays'].value_counts(normalize=True)).sort_values(by=['pdays'])"
   ]
  },
  {
   "cell_type": "code",
   "execution_count": 24,
   "id": "59570c7d",
   "metadata": {},
   "outputs": [
    {
     "data": {
      "text/html": [
       "<div>\n",
       "<style scoped>\n",
       "    .dataframe tbody tr th:only-of-type {\n",
       "        vertical-align: middle;\n",
       "    }\n",
       "\n",
       "    .dataframe tbody tr th {\n",
       "        vertical-align: top;\n",
       "    }\n",
       "\n",
       "    .dataframe thead th {\n",
       "        text-align: right;\n",
       "    }\n",
       "</style>\n",
       "<table border=\"1\" class=\"dataframe\">\n",
       "  <thead>\n",
       "    <tr style=\"text-align: right;\">\n",
       "      <th></th>\n",
       "      <th>age</th>\n",
       "      <th>job</th>\n",
       "      <th>marital</th>\n",
       "      <th>education</th>\n",
       "      <th>default</th>\n",
       "      <th>housing</th>\n",
       "      <th>loan</th>\n",
       "      <th>contact</th>\n",
       "      <th>month</th>\n",
       "      <th>day_of_week</th>\n",
       "      <th>campaign</th>\n",
       "      <th>previous</th>\n",
       "      <th>poutcome</th>\n",
       "      <th>emp.var.rate</th>\n",
       "      <th>cons.price.idx</th>\n",
       "      <th>cons.conf.idx</th>\n",
       "      <th>euribor3m</th>\n",
       "      <th>nr.employed</th>\n",
       "      <th>y</th>\n",
       "      <th>contacted</th>\n",
       "    </tr>\n",
       "  </thead>\n",
       "  <tbody>\n",
       "    <tr>\n",
       "      <th>0</th>\n",
       "      <td>56</td>\n",
       "      <td>housemaid</td>\n",
       "      <td>married</td>\n",
       "      <td>basic.4y</td>\n",
       "      <td>no</td>\n",
       "      <td>no</td>\n",
       "      <td>no</td>\n",
       "      <td>telephone</td>\n",
       "      <td>may</td>\n",
       "      <td>mon</td>\n",
       "      <td>1</td>\n",
       "      <td>0</td>\n",
       "      <td>nonexistent</td>\n",
       "      <td>1.1</td>\n",
       "      <td>93.994</td>\n",
       "      <td>-36.4</td>\n",
       "      <td>4.857</td>\n",
       "      <td>5191.0</td>\n",
       "      <td>no</td>\n",
       "      <td>0</td>\n",
       "    </tr>\n",
       "    <tr>\n",
       "      <th>2</th>\n",
       "      <td>37</td>\n",
       "      <td>services</td>\n",
       "      <td>married</td>\n",
       "      <td>high.school</td>\n",
       "      <td>no</td>\n",
       "      <td>yes</td>\n",
       "      <td>no</td>\n",
       "      <td>telephone</td>\n",
       "      <td>may</td>\n",
       "      <td>mon</td>\n",
       "      <td>1</td>\n",
       "      <td>0</td>\n",
       "      <td>nonexistent</td>\n",
       "      <td>1.1</td>\n",
       "      <td>93.994</td>\n",
       "      <td>-36.4</td>\n",
       "      <td>4.857</td>\n",
       "      <td>5191.0</td>\n",
       "      <td>no</td>\n",
       "      <td>0</td>\n",
       "    </tr>\n",
       "    <tr>\n",
       "      <th>3</th>\n",
       "      <td>40</td>\n",
       "      <td>admin.</td>\n",
       "      <td>married</td>\n",
       "      <td>basic.6y</td>\n",
       "      <td>no</td>\n",
       "      <td>no</td>\n",
       "      <td>no</td>\n",
       "      <td>telephone</td>\n",
       "      <td>may</td>\n",
       "      <td>mon</td>\n",
       "      <td>1</td>\n",
       "      <td>0</td>\n",
       "      <td>nonexistent</td>\n",
       "      <td>1.1</td>\n",
       "      <td>93.994</td>\n",
       "      <td>-36.4</td>\n",
       "      <td>4.857</td>\n",
       "      <td>5191.0</td>\n",
       "      <td>no</td>\n",
       "      <td>0</td>\n",
       "    </tr>\n",
       "    <tr>\n",
       "      <th>4</th>\n",
       "      <td>56</td>\n",
       "      <td>services</td>\n",
       "      <td>married</td>\n",
       "      <td>high.school</td>\n",
       "      <td>no</td>\n",
       "      <td>no</td>\n",
       "      <td>yes</td>\n",
       "      <td>telephone</td>\n",
       "      <td>may</td>\n",
       "      <td>mon</td>\n",
       "      <td>1</td>\n",
       "      <td>0</td>\n",
       "      <td>nonexistent</td>\n",
       "      <td>1.1</td>\n",
       "      <td>93.994</td>\n",
       "      <td>-36.4</td>\n",
       "      <td>4.857</td>\n",
       "      <td>5191.0</td>\n",
       "      <td>no</td>\n",
       "      <td>0</td>\n",
       "    </tr>\n",
       "    <tr>\n",
       "      <th>6</th>\n",
       "      <td>59</td>\n",
       "      <td>admin.</td>\n",
       "      <td>married</td>\n",
       "      <td>professional.course</td>\n",
       "      <td>no</td>\n",
       "      <td>no</td>\n",
       "      <td>no</td>\n",
       "      <td>telephone</td>\n",
       "      <td>may</td>\n",
       "      <td>mon</td>\n",
       "      <td>1</td>\n",
       "      <td>0</td>\n",
       "      <td>nonexistent</td>\n",
       "      <td>1.1</td>\n",
       "      <td>93.994</td>\n",
       "      <td>-36.4</td>\n",
       "      <td>4.857</td>\n",
       "      <td>5191.0</td>\n",
       "      <td>no</td>\n",
       "      <td>0</td>\n",
       "    </tr>\n",
       "  </tbody>\n",
       "</table>\n",
       "</div>"
      ],
      "text/plain": [
       "   age        job  marital            education default housing loan  \\\n",
       "0   56  housemaid  married             basic.4y      no      no   no   \n",
       "2   37   services  married          high.school      no     yes   no   \n",
       "3   40     admin.  married             basic.6y      no      no   no   \n",
       "4   56   services  married          high.school      no      no  yes   \n",
       "6   59     admin.  married  professional.course      no      no   no   \n",
       "\n",
       "     contact month day_of_week  campaign  previous     poutcome  emp.var.rate  \\\n",
       "0  telephone   may         mon         1         0  nonexistent           1.1   \n",
       "2  telephone   may         mon         1         0  nonexistent           1.1   \n",
       "3  telephone   may         mon         1         0  nonexistent           1.1   \n",
       "4  telephone   may         mon         1         0  nonexistent           1.1   \n",
       "6  telephone   may         mon         1         0  nonexistent           1.1   \n",
       "\n",
       "   cons.price.idx  cons.conf.idx  euribor3m  nr.employed   y  contacted  \n",
       "0          93.994          -36.4      4.857       5191.0  no          0  \n",
       "2          93.994          -36.4      4.857       5191.0  no          0  \n",
       "3          93.994          -36.4      4.857       5191.0  no          0  \n",
       "4          93.994          -36.4      4.857       5191.0  no          0  \n",
       "6          93.994          -36.4      4.857       5191.0  no          0  "
      ]
     },
     "execution_count": 24,
     "metadata": {},
     "output_type": "execute_result"
    }
   ],
   "source": [
    "df['contacted'] = (df['pdays'] != 999).astype(int)\n",
    "df = df.drop(['pdays'], axis=1)\n",
    "df.head(5)"
   ]
  },
  {
   "cell_type": "code",
   "execution_count": 25,
   "id": "5fdaa625",
   "metadata": {},
   "outputs": [
    {
     "data": {
      "text/plain": [
       "0    29168\n",
       "1     1310\n",
       "Name: contacted, dtype: int64"
      ]
     },
     "execution_count": 25,
     "metadata": {},
     "output_type": "execute_result"
    }
   ],
   "source": [
    "#Check of the newly added column\n",
    "df['contacted'].value_counts()"
   ]
  },
  {
   "cell_type": "markdown",
   "id": "4628d401",
   "metadata": {},
   "source": [
    "Regarding the feature `age`, I filter the outliners."
   ]
  },
  {
   "cell_type": "code",
   "execution_count": 26,
   "id": "3c76d72f",
   "metadata": {},
   "outputs": [],
   "source": [
    "# Variables to filter\n",
    "variables = ['age']"
   ]
  },
  {
   "cell_type": "code",
   "execution_count": 27,
   "id": "53d257d8",
   "metadata": {},
   "outputs": [],
   "source": [
    "def outlierstreat(data, variable):\n",
    "    first_quartile = data[variable].quantile(0.25)\n",
    "    third_quartile = data[variable].quantile(0.75)\n",
    "    iqr = third_quartile - first_quartile\n",
    "    lower = first_quartile - 1.5 * iqr\n",
    "    upper = third_quartile + 1.5 * iqr\n",
    "\n",
    "    # Correcting the condition for under-age customers: only considered persons >18y,\n",
    "    # so legally able to execute banking operations in Europe\n",
    "    lower = max(lower, 18)\n",
    "    \n",
    "    print(f'{variable} bounds: ', lower, upper)\n",
    "    # Filter the data\n",
    "    filtered_data = data[(data[variable] <= upper) & (data[variable] >= lower)]\n",
    "    return filtered_data"
   ]
  },
  {
   "cell_type": "code",
   "execution_count": 28,
   "id": "6299952b",
   "metadata": {},
   "outputs": [
    {
     "name": "stdout",
     "output_type": "stream",
     "text": [
      "age bounds:  18 66.0\n"
     ]
    }
   ],
   "source": [
    "for variable in variables:\n",
    "    df = outlierstreat(df, variable)"
   ]
  },
  {
   "cell_type": "markdown",
   "id": "5b32e6d2",
   "metadata": {},
   "source": [
    "The new age limits make sense to me: 18-70y is a very good window, collecting the most active users (especially between 30-60y)."
   ]
  },
  {
   "cell_type": "code",
   "execution_count": 29,
   "id": "5fb05f88",
   "metadata": {},
   "outputs": [
    {
     "name": "stdout",
     "output_type": "stream",
     "text": [
      "<class 'pandas.core.frame.DataFrame'>\n",
      "Int64Index: 30019 entries, 0 to 41186\n",
      "Data columns (total 20 columns):\n",
      " #   Column          Non-Null Count  Dtype  \n",
      "---  ------          --------------  -----  \n",
      " 0   age             30019 non-null  int64  \n",
      " 1   job             30019 non-null  object \n",
      " 2   marital         30019 non-null  object \n",
      " 3   education       30019 non-null  object \n",
      " 4   default         30019 non-null  object \n",
      " 5   housing         30019 non-null  object \n",
      " 6   loan            30019 non-null  object \n",
      " 7   contact         30019 non-null  object \n",
      " 8   month           30019 non-null  object \n",
      " 9   day_of_week     30019 non-null  object \n",
      " 10  campaign        30019 non-null  int64  \n",
      " 11  previous        30019 non-null  int64  \n",
      " 12  poutcome        30019 non-null  object \n",
      " 13  emp.var.rate    30019 non-null  float64\n",
      " 14  cons.price.idx  30019 non-null  float64\n",
      " 15  cons.conf.idx   30019 non-null  float64\n",
      " 16  euribor3m       30019 non-null  float64\n",
      " 17  nr.employed     30019 non-null  float64\n",
      " 18  y               30019 non-null  object \n",
      " 19  contacted       30019 non-null  int32  \n",
      "dtypes: float64(5), int32(1), int64(3), object(11)\n",
      "memory usage: 4.7+ MB\n"
     ]
    }
   ],
   "source": [
    "df.info()"
   ]
  },
  {
   "cell_type": "code",
   "execution_count": 30,
   "id": "828a3dbc",
   "metadata": {
    "scrolled": false
   },
   "outputs": [
    {
     "data": {
      "image/png": "[encoded data removed]",
      "text/plain": [
       "<Figure size 2000x800 with 2 Axes>"
      ]
     },
     "metadata": {},
     "output_type": "display_data"
    }
   ],
   "source": [
    "# New distribution of 'age' (>18y)\n",
    "fig, axes = plt.subplots(nrows=1, ncols=2, figsize=(20,8))\n",
    "\n",
    "ax=sns.histplot(data=df, x='age', kde=True, color=\"red\", bins=50, ax=axes[0])\n",
    "ax.set_xlabel('Age', fontsize=16)\n",
    "ax.set_ylabel('Count', fontsize=16)\n",
    "\n",
    "ax = sns.boxplot(x=df['age'],showmeans=True,meanprops={\"marker\":\"o\",\n",
    "                       \"markerfacecolor\":\"white\", \n",
    "                       \"markeredgecolor\":\"black\",\n",
    "                      \"markersize\":\"7\"},ax=axes[1], color=\"red\")\n",
    "ax.set_xlabel('Age',fontsize=16)\n",
    "\n",
    "plt.show()"
   ]
  },
  {
   "cell_type": "code",
   "execution_count": null,
   "id": "84d19431",
   "metadata": {},
   "outputs": [],
   "source": []
  },
  {
   "cell_type": "markdown",
   "id": "cb9fa083",
   "metadata": {},
   "source": [
    "### Problem 4: Understanding the Task\n",
    "\n",
    "After examining the description and data, your goal now is to clearly state the *Business Objective* of the task.  State the objective below."
   ]
  },
  {
   "cell_type": "code",
   "execution_count": 31,
   "id": "23b67d2a",
   "metadata": {},
   "outputs": [
    {
     "name": "stdout",
     "output_type": "stream",
     "text": [
      "<class 'pandas.core.frame.DataFrame'>\n",
      "Int64Index: 30019 entries, 0 to 41186\n",
      "Data columns (total 20 columns):\n",
      " #   Column          Non-Null Count  Dtype  \n",
      "---  ------          --------------  -----  \n",
      " 0   age             30019 non-null  int64  \n",
      " 1   job             30019 non-null  object \n",
      " 2   marital         30019 non-null  object \n",
      " 3   education       30019 non-null  object \n",
      " 4   default         30019 non-null  object \n",
      " 5   housing         30019 non-null  object \n",
      " 6   loan            30019 non-null  object \n",
      " 7   contact         30019 non-null  object \n",
      " 8   month           30019 non-null  object \n",
      " 9   day_of_week     30019 non-null  object \n",
      " 10  campaign        30019 non-null  int64  \n",
      " 11  previous        30019 non-null  int64  \n",
      " 12  poutcome        30019 non-null  object \n",
      " 13  emp.var.rate    30019 non-null  float64\n",
      " 14  cons.price.idx  30019 non-null  float64\n",
      " 15  cons.conf.idx   30019 non-null  float64\n",
      " 16  euribor3m       30019 non-null  float64\n",
      " 17  nr.employed     30019 non-null  float64\n",
      " 18  y               30019 non-null  object \n",
      " 19  contacted       30019 non-null  int32  \n",
      "dtypes: float64(5), int32(1), int64(3), object(11)\n",
      "memory usage: 4.7+ MB\n"
     ]
    }
   ],
   "source": [
    "df.info()"
   ]
  },
  {
   "cell_type": "markdown",
   "id": "5af72a75",
   "metadata": {},
   "source": [
    "#### Business Objective\n",
    "\n",
    "The increasingly vast number of marketing campaigns over time has reduced its effect on the general public. Furthermore, economical pressures and competition has led marketing managers to invest on directed campaigns with a strict and rigorous selection of contacts. Such direct campaigns can be enhanced through an application of Data Analysis and Machine Learning techniques.\n",
    "\n",
    "This work describes an implementation of a DM project based on the CRISP-DM methodology. Real-world data were collected from a Portuguese marketing campaign related with bank deposit subscription. The business objective is to find a model that can explain success of a contact (i.e. if the client subscribes the deposit). Such model can increase campaign efficiency by identifying the main characteristics that affect success, helping in a better management of the available resources (e.g. human effort, phone calls, time) and selection of a high quality and affordable set of potential buying customers."
   ]
  },
  {
   "cell_type": "code",
   "execution_count": null,
   "id": "dc3edacd",
   "metadata": {},
   "outputs": [],
   "source": []
  },
  {
   "cell_type": "markdown",
   "id": "4518754e",
   "metadata": {},
   "source": [
    "### Problem 5: Engineering Features\n",
    "\n",
    "Now that you understand your business objective, we will build a basic model to get started.  Before we can do this, we must work to encode the data.  Using just the bank information features, prepare the features and target column for modeling with appropriate encoding and transformations."
   ]
  },
  {
   "cell_type": "markdown",
   "id": "c8d9236b",
   "metadata": {},
   "source": [
    "Prior of any analysis and modeling, appropriate encoding and transformations have to be applied to the no-mumerical features. If I properly understand the requirements, I consider all the features but last ones, which cover the status of the current economic scenario."
   ]
  },
  {
   "cell_type": "code",
   "execution_count": 32,
   "id": "51919bd6",
   "metadata": {},
   "outputs": [],
   "source": [
    "categorical_columns = ['job', 'marital', 'education', 'contact', 'poutcome']\n",
    "binary_columns = ['default', 'housing', 'loan', 'y']\n",
    "\n",
    "month_mapping = {\n",
    "    'jan': 1, 'feb': 2, 'mar': 3, 'apr': 4, 'may': 5, 'jun': 6,\n",
    "    'jul': 7, 'aug': 8, 'sep': 9, 'oct': 10, 'nov': 11, 'dec': 12\n",
    "}\n",
    "\n",
    "day_mapping = {\n",
    "    'mon': 1, 'tue': 2, 'wed': 3, 'thu': 4, 'fri': 5\n",
    "}"
   ]
  },
  {
   "cell_type": "code",
   "execution_count": 33,
   "id": "b391faa9",
   "metadata": {},
   "outputs": [],
   "source": [
    "df_encoded = df[['age', 'job', 'marital', 'education', 'default', 'housing', 'loan', 'contact',\n",
    "                'month', 'day_of_week', 'campaign', 'previous', 'poutcome', 'contacted',\n",
    "                 'y']]"
   ]
  },
  {
   "cell_type": "code",
   "execution_count": 34,
   "id": "4b092c5b",
   "metadata": {},
   "outputs": [],
   "source": [
    "# Binary Features\n",
    "df_encoded['default'] = df_encoded['default'].map({'yes': True, 'no': False})\n",
    "df_encoded['housing'] = df_encoded['housing'].map({'yes': True, 'no': False})\n",
    "df_encoded['loan'] = df_encoded['loan'].map({'yes': True, 'no': False})\n",
    "df_encoded['y'] = df_encoded['y'].map({'yes': True, 'no': False})"
   ]
  },
  {
   "cell_type": "code",
   "execution_count": 35,
   "id": "ed45b040",
   "metadata": {},
   "outputs": [],
   "source": [
    "# Ordinal Features\n",
    "df_encoded['month'] = df_encoded['month'].map(month_mapping)\n",
    "df_encoded['day_of_week'] = df_encoded['day_of_week'].map(day_mapping)"
   ]
  },
  {
   "cell_type": "code",
   "execution_count": 36,
   "id": "a5bd7868",
   "metadata": {},
   "outputs": [
    {
     "data": {
      "text/html": [
       "<div>\n",
       "<style scoped>\n",
       "    .dataframe tbody tr th:only-of-type {\n",
       "        vertical-align: middle;\n",
       "    }\n",
       "\n",
       "    .dataframe tbody tr th {\n",
       "        vertical-align: top;\n",
       "    }\n",
       "\n",
       "    .dataframe thead th {\n",
       "        text-align: right;\n",
       "    }\n",
       "</style>\n",
       "<table border=\"1\" class=\"dataframe\">\n",
       "  <thead>\n",
       "    <tr style=\"text-align: right;\">\n",
       "      <th></th>\n",
       "      <th>age</th>\n",
       "      <th>job</th>\n",
       "      <th>marital</th>\n",
       "      <th>education</th>\n",
       "      <th>default</th>\n",
       "      <th>housing</th>\n",
       "      <th>loan</th>\n",
       "      <th>contact</th>\n",
       "      <th>month</th>\n",
       "      <th>day_of_week</th>\n",
       "      <th>campaign</th>\n",
       "      <th>previous</th>\n",
       "      <th>poutcome</th>\n",
       "      <th>contacted</th>\n",
       "      <th>y</th>\n",
       "    </tr>\n",
       "  </thead>\n",
       "  <tbody>\n",
       "    <tr>\n",
       "      <th>0</th>\n",
       "      <td>56</td>\n",
       "      <td>housemaid</td>\n",
       "      <td>married</td>\n",
       "      <td>basic.4y</td>\n",
       "      <td>False</td>\n",
       "      <td>False</td>\n",
       "      <td>False</td>\n",
       "      <td>telephone</td>\n",
       "      <td>5</td>\n",
       "      <td>1</td>\n",
       "      <td>1</td>\n",
       "      <td>0</td>\n",
       "      <td>nonexistent</td>\n",
       "      <td>0</td>\n",
       "      <td>False</td>\n",
       "    </tr>\n",
       "    <tr>\n",
       "      <th>2</th>\n",
       "      <td>37</td>\n",
       "      <td>services</td>\n",
       "      <td>married</td>\n",
       "      <td>high.school</td>\n",
       "      <td>False</td>\n",
       "      <td>True</td>\n",
       "      <td>False</td>\n",
       "      <td>telephone</td>\n",
       "      <td>5</td>\n",
       "      <td>1</td>\n",
       "      <td>1</td>\n",
       "      <td>0</td>\n",
       "      <td>nonexistent</td>\n",
       "      <td>0</td>\n",
       "      <td>False</td>\n",
       "    </tr>\n",
       "    <tr>\n",
       "      <th>3</th>\n",
       "      <td>40</td>\n",
       "      <td>admin.</td>\n",
       "      <td>married</td>\n",
       "      <td>basic.6y</td>\n",
       "      <td>False</td>\n",
       "      <td>False</td>\n",
       "      <td>False</td>\n",
       "      <td>telephone</td>\n",
       "      <td>5</td>\n",
       "      <td>1</td>\n",
       "      <td>1</td>\n",
       "      <td>0</td>\n",
       "      <td>nonexistent</td>\n",
       "      <td>0</td>\n",
       "      <td>False</td>\n",
       "    </tr>\n",
       "    <tr>\n",
       "      <th>4</th>\n",
       "      <td>56</td>\n",
       "      <td>services</td>\n",
       "      <td>married</td>\n",
       "      <td>high.school</td>\n",
       "      <td>False</td>\n",
       "      <td>False</td>\n",
       "      <td>True</td>\n",
       "      <td>telephone</td>\n",
       "      <td>5</td>\n",
       "      <td>1</td>\n",
       "      <td>1</td>\n",
       "      <td>0</td>\n",
       "      <td>nonexistent</td>\n",
       "      <td>0</td>\n",
       "      <td>False</td>\n",
       "    </tr>\n",
       "    <tr>\n",
       "      <th>6</th>\n",
       "      <td>59</td>\n",
       "      <td>admin.</td>\n",
       "      <td>married</td>\n",
       "      <td>professional.course</td>\n",
       "      <td>False</td>\n",
       "      <td>False</td>\n",
       "      <td>False</td>\n",
       "      <td>telephone</td>\n",
       "      <td>5</td>\n",
       "      <td>1</td>\n",
       "      <td>1</td>\n",
       "      <td>0</td>\n",
       "      <td>nonexistent</td>\n",
       "      <td>0</td>\n",
       "      <td>False</td>\n",
       "    </tr>\n",
       "  </tbody>\n",
       "</table>\n",
       "</div>"
      ],
      "text/plain": [
       "   age        job  marital            education  default  housing   loan  \\\n",
       "0   56  housemaid  married             basic.4y    False    False  False   \n",
       "2   37   services  married          high.school    False     True  False   \n",
       "3   40     admin.  married             basic.6y    False    False  False   \n",
       "4   56   services  married          high.school    False    False   True   \n",
       "6   59     admin.  married  professional.course    False    False  False   \n",
       "\n",
       "     contact  month  day_of_week  campaign  previous     poutcome  contacted  \\\n",
       "0  telephone      5            1         1         0  nonexistent          0   \n",
       "2  telephone      5            1         1         0  nonexistent          0   \n",
       "3  telephone      5            1         1         0  nonexistent          0   \n",
       "4  telephone      5            1         1         0  nonexistent          0   \n",
       "6  telephone      5            1         1         0  nonexistent          0   \n",
       "\n",
       "       y  \n",
       "0  False  \n",
       "2  False  \n",
       "3  False  \n",
       "4  False  \n",
       "6  False  "
      ]
     },
     "execution_count": 36,
     "metadata": {},
     "output_type": "execute_result"
    }
   ],
   "source": [
    "df_encoded.head(5)"
   ]
  },
  {
   "cell_type": "code",
   "execution_count": 37,
   "id": "d3684c0c",
   "metadata": {},
   "outputs": [],
   "source": [
    "df_encoded = pd.get_dummies(df_encoded, columns=categorical_columns)"
   ]
  },
  {
   "cell_type": "code",
   "execution_count": 38,
   "id": "7c3559fd",
   "metadata": {},
   "outputs": [
    {
     "data": {
      "text/html": [
       "<div>\n",
       "<style scoped>\n",
       "    .dataframe tbody tr th:only-of-type {\n",
       "        vertical-align: middle;\n",
       "    }\n",
       "\n",
       "    .dataframe tbody tr th {\n",
       "        vertical-align: top;\n",
       "    }\n",
       "\n",
       "    .dataframe thead th {\n",
       "        text-align: right;\n",
       "    }\n",
       "</style>\n",
       "<table border=\"1\" class=\"dataframe\">\n",
       "  <thead>\n",
       "    <tr style=\"text-align: right;\">\n",
       "      <th></th>\n",
       "      <th>age</th>\n",
       "      <th>default</th>\n",
       "      <th>housing</th>\n",
       "      <th>loan</th>\n",
       "      <th>month</th>\n",
       "      <th>day_of_week</th>\n",
       "      <th>campaign</th>\n",
       "      <th>previous</th>\n",
       "      <th>contacted</th>\n",
       "      <th>y</th>\n",
       "      <th>...</th>\n",
       "      <th>education_basic.9y</th>\n",
       "      <th>education_high.school</th>\n",
       "      <th>education_illiterate</th>\n",
       "      <th>education_professional.course</th>\n",
       "      <th>education_university.degree</th>\n",
       "      <th>contact_cellular</th>\n",
       "      <th>contact_telephone</th>\n",
       "      <th>poutcome_failure</th>\n",
       "      <th>poutcome_nonexistent</th>\n",
       "      <th>poutcome_success</th>\n",
       "    </tr>\n",
       "  </thead>\n",
       "  <tbody>\n",
       "    <tr>\n",
       "      <th>0</th>\n",
       "      <td>56</td>\n",
       "      <td>False</td>\n",
       "      <td>False</td>\n",
       "      <td>False</td>\n",
       "      <td>5</td>\n",
       "      <td>1</td>\n",
       "      <td>1</td>\n",
       "      <td>0</td>\n",
       "      <td>0</td>\n",
       "      <td>False</td>\n",
       "      <td>...</td>\n",
       "      <td>0</td>\n",
       "      <td>0</td>\n",
       "      <td>0</td>\n",
       "      <td>0</td>\n",
       "      <td>0</td>\n",
       "      <td>0</td>\n",
       "      <td>1</td>\n",
       "      <td>0</td>\n",
       "      <td>1</td>\n",
       "      <td>0</td>\n",
       "    </tr>\n",
       "    <tr>\n",
       "      <th>2</th>\n",
       "      <td>37</td>\n",
       "      <td>False</td>\n",
       "      <td>True</td>\n",
       "      <td>False</td>\n",
       "      <td>5</td>\n",
       "      <td>1</td>\n",
       "      <td>1</td>\n",
       "      <td>0</td>\n",
       "      <td>0</td>\n",
       "      <td>False</td>\n",
       "      <td>...</td>\n",
       "      <td>0</td>\n",
       "      <td>1</td>\n",
       "      <td>0</td>\n",
       "      <td>0</td>\n",
       "      <td>0</td>\n",
       "      <td>0</td>\n",
       "      <td>1</td>\n",
       "      <td>0</td>\n",
       "      <td>1</td>\n",
       "      <td>0</td>\n",
       "    </tr>\n",
       "    <tr>\n",
       "      <th>3</th>\n",
       "      <td>40</td>\n",
       "      <td>False</td>\n",
       "      <td>False</td>\n",
       "      <td>False</td>\n",
       "      <td>5</td>\n",
       "      <td>1</td>\n",
       "      <td>1</td>\n",
       "      <td>0</td>\n",
       "      <td>0</td>\n",
       "      <td>False</td>\n",
       "      <td>...</td>\n",
       "      <td>0</td>\n",
       "      <td>0</td>\n",
       "      <td>0</td>\n",
       "      <td>0</td>\n",
       "      <td>0</td>\n",
       "      <td>0</td>\n",
       "      <td>1</td>\n",
       "      <td>0</td>\n",
       "      <td>1</td>\n",
       "      <td>0</td>\n",
       "    </tr>\n",
       "    <tr>\n",
       "      <th>4</th>\n",
       "      <td>56</td>\n",
       "      <td>False</td>\n",
       "      <td>False</td>\n",
       "      <td>True</td>\n",
       "      <td>5</td>\n",
       "      <td>1</td>\n",
       "      <td>1</td>\n",
       "      <td>0</td>\n",
       "      <td>0</td>\n",
       "      <td>False</td>\n",
       "      <td>...</td>\n",
       "      <td>0</td>\n",
       "      <td>1</td>\n",
       "      <td>0</td>\n",
       "      <td>0</td>\n",
       "      <td>0</td>\n",
       "      <td>0</td>\n",
       "      <td>1</td>\n",
       "      <td>0</td>\n",
       "      <td>1</td>\n",
       "      <td>0</td>\n",
       "    </tr>\n",
       "    <tr>\n",
       "      <th>6</th>\n",
       "      <td>59</td>\n",
       "      <td>False</td>\n",
       "      <td>False</td>\n",
       "      <td>False</td>\n",
       "      <td>5</td>\n",
       "      <td>1</td>\n",
       "      <td>1</td>\n",
       "      <td>0</td>\n",
       "      <td>0</td>\n",
       "      <td>False</td>\n",
       "      <td>...</td>\n",
       "      <td>0</td>\n",
       "      <td>0</td>\n",
       "      <td>0</td>\n",
       "      <td>1</td>\n",
       "      <td>0</td>\n",
       "      <td>0</td>\n",
       "      <td>1</td>\n",
       "      <td>0</td>\n",
       "      <td>1</td>\n",
       "      <td>0</td>\n",
       "    </tr>\n",
       "  </tbody>\n",
       "</table>\n",
       "<p>5 rows × 36 columns</p>\n",
       "</div>"
      ],
      "text/plain": [
       "   age  default  housing   loan  month  day_of_week  campaign  previous  \\\n",
       "0   56    False    False  False      5            1         1         0   \n",
       "2   37    False     True  False      5            1         1         0   \n",
       "3   40    False    False  False      5            1         1         0   \n",
       "4   56    False    False   True      5            1         1         0   \n",
       "6   59    False    False  False      5            1         1         0   \n",
       "\n",
       "   contacted      y  ...  education_basic.9y  education_high.school  \\\n",
       "0          0  False  ...                   0                      0   \n",
       "2          0  False  ...                   0                      1   \n",
       "3          0  False  ...                   0                      0   \n",
       "4          0  False  ...                   0                      1   \n",
       "6          0  False  ...                   0                      0   \n",
       "\n",
       "   education_illiterate  education_professional.course  \\\n",
       "0                     0                              0   \n",
       "2                     0                              0   \n",
       "3                     0                              0   \n",
       "4                     0                              0   \n",
       "6                     0                              1   \n",
       "\n",
       "   education_university.degree  contact_cellular  contact_telephone  \\\n",
       "0                            0                 0                  1   \n",
       "2                            0                 0                  1   \n",
       "3                            0                 0                  1   \n",
       "4                            0                 0                  1   \n",
       "6                            0                 0                  1   \n",
       "\n",
       "   poutcome_failure  poutcome_nonexistent  poutcome_success  \n",
       "0                 0                     1                 0  \n",
       "2                 0                     1                 0  \n",
       "3                 0                     1                 0  \n",
       "4                 0                     1                 0  \n",
       "6                 0                     1                 0  \n",
       "\n",
       "[5 rows x 36 columns]"
      ]
     },
     "execution_count": 38,
     "metadata": {},
     "output_type": "execute_result"
    }
   ],
   "source": [
    "df_encoded.head(5)"
   ]
  },
  {
   "cell_type": "code",
   "execution_count": 79,
   "id": "1239e32f",
   "metadata": {},
   "outputs": [
    {
     "name": "stdout",
     "output_type": "stream",
     "text": [
      "<class 'pandas.core.frame.DataFrame'>\n",
      "Int64Index: 30019 entries, 0 to 41186\n",
      "Data columns (total 36 columns):\n",
      " #   Column                         Non-Null Count  Dtype\n",
      "---  ------                         --------------  -----\n",
      " 0   age                            30019 non-null  int64\n",
      " 1   default                        30019 non-null  bool \n",
      " 2   housing                        30019 non-null  bool \n",
      " 3   loan                           30019 non-null  bool \n",
      " 4   month                          30019 non-null  int64\n",
      " 5   day_of_week                    30019 non-null  int64\n",
      " 6   campaign                       30019 non-null  int64\n",
      " 7   previous                       30019 non-null  int64\n",
      " 8   contacted                      30019 non-null  int32\n",
      " 9   y                              30019 non-null  bool \n",
      " 10  job_admin.                     30019 non-null  uint8\n",
      " 11  job_blue-collar                30019 non-null  uint8\n",
      " 12  job_entrepreneur               30019 non-null  uint8\n",
      " 13  job_housemaid                  30019 non-null  uint8\n",
      " 14  job_management                 30019 non-null  uint8\n",
      " 15  job_retired                    30019 non-null  uint8\n",
      " 16  job_self-employed              30019 non-null  uint8\n",
      " 17  job_services                   30019 non-null  uint8\n",
      " 18  job_student                    30019 non-null  uint8\n",
      " 19  job_technician                 30019 non-null  uint8\n",
      " 20  job_unemployed                 30019 non-null  uint8\n",
      " 21  marital_divorced               30019 non-null  uint8\n",
      " 22  marital_married                30019 non-null  uint8\n",
      " 23  marital_single                 30019 non-null  uint8\n",
      " 24  education_basic.4y             30019 non-null  uint8\n",
      " 25  education_basic.6y             30019 non-null  uint8\n",
      " 26  education_basic.9y             30019 non-null  uint8\n",
      " 27  education_high.school          30019 non-null  uint8\n",
      " 28  education_illiterate           30019 non-null  uint8\n",
      " 29  education_professional.course  30019 non-null  uint8\n",
      " 30  education_university.degree    30019 non-null  uint8\n",
      " 31  contact_cellular               30019 non-null  uint8\n",
      " 32  contact_telephone              30019 non-null  uint8\n",
      " 33  poutcome_failure               30019 non-null  uint8\n",
      " 34  poutcome_nonexistent           30019 non-null  uint8\n",
      " 35  poutcome_success               30019 non-null  uint8\n",
      "dtypes: bool(4), int32(1), int64(5), uint8(26)\n",
      "memory usage: 2.3 MB\n"
     ]
    }
   ],
   "source": [
    "df_encoded.info()"
   ]
  },
  {
   "cell_type": "code",
   "execution_count": 40,
   "id": "d1583d16",
   "metadata": {},
   "outputs": [
    {
     "data": {
      "image/png": "[encoded data removed]",
      "text/plain": [
       "<Figure size 2000x1500 with 2 Axes>"
      ]
     },
     "metadata": {},
     "output_type": "display_data"
    }
   ],
   "source": [
    "#correlation heatmap\n",
    "\n",
    "plt.rcdefaults()\n",
    "#sns.cubehelix_palette(as_cmap=True)\n",
    "f, ax = plt.subplots(figsize=(20, 15))\n",
    "\n",
    "sns.set(font_scale=1.5)\n",
    "sns.heatmap(df_encoded.corr(), center = 0, linewidth = .5,\n",
    "            vmin=-1, cmap='coolwarm', annot=False).set(title='Correlation Heatmap');"
   ]
  },
  {
   "cell_type": "code",
   "execution_count": 41,
   "id": "82deb493",
   "metadata": {},
   "outputs": [
    {
     "data": {
      "text/plain": [
       "y                                1.000000\n",
       "contacted                        0.321887\n",
       "poutcome_success                 0.314201\n",
       "previous                         0.222086\n",
       "poutcome_nonexistent             0.186111\n",
       "contact_cellular                 0.139363\n",
       "contact_telephone                0.139363\n",
       "job_student                      0.093371\n",
       "campaign                         0.066246\n",
       "job_blue-collar                  0.062184\n",
       "education_university.degree      0.055001\n",
       "marital_single                   0.053412\n",
       "job_retired                      0.044316\n",
       "education_basic.9y               0.041682\n",
       "marital_married                  0.036023\n",
       "job_admin.                       0.033801\n",
       "job_services                     0.031039\n",
       "job_unemployed                   0.023853\n",
       "month                            0.022260\n",
       "poutcome_failure                 0.021996\n",
       "marital_divorced                 0.021906\n",
       "education_basic.4y               0.020572\n",
       "education_basic.6y               0.018585\n",
       "job_entrepreneur                 0.017998\n",
       "housing                          0.010262\n",
       "day_of_week                      0.009236\n",
       "education_illiterate             0.008851\n",
       "job_technician                   0.006315\n",
       "loan                             0.005539\n",
       "education_high.school            0.004456\n",
       "age                              0.004427\n",
       "default                          0.003720\n",
       "job_housemaid                    0.003096\n",
       "education_professional.course    0.001856\n",
       "job_management                   0.001643\n",
       "job_self-employed                0.000310\n",
       "Name: y, dtype: float64"
      ]
     },
     "execution_count": 41,
     "metadata": {},
     "output_type": "execute_result"
    }
   ],
   "source": [
    "df_encoded.corr()['y'].abs().sort_values(ascending=False)"
   ]
  },
  {
   "cell_type": "markdown",
   "id": "f61e406d",
   "metadata": {},
   "source": [
    "### Problem 6: Train/Test Split\n",
    "\n",
    "With your data prepared, split it into a train and test set."
   ]
  },
  {
   "cell_type": "markdown",
   "id": "6ffe0c78",
   "metadata": {},
   "source": [
    "#### 4.1. X-y Definition, with a Feature Selection"
   ]
  },
  {
   "cell_type": "code",
   "execution_count": 42,
   "id": "f6855a8d",
   "metadata": {},
   "outputs": [],
   "source": [
    "X = df_encoded.drop(['y'], axis = 1)\n",
    "y = df_encoded['y']"
   ]
  },
  {
   "cell_type": "code",
   "execution_count": null,
   "id": "ac2a71ce",
   "metadata": {},
   "outputs": [],
   "source": []
  },
  {
   "cell_type": "markdown",
   "id": "b01676d9",
   "metadata": {},
   "source": [
    "#### 4.2 Split the Dataset (Train/Test)\n",
    "Being the dataset unbalanced, it is important to enable the feature 'stratify' to keep the two partitions (train, test), with similar output proportions. The stratify parameter ensures that the proportion of classes in each split of the data remains consistent with the proportion in the full dataset. This is particularly important in unbalanced datasets to prevent one split from ending up with most or all examples of a minority class, which could lead to biased training or testing performance."
   ]
  },
  {
   "cell_type": "code",
   "execution_count": 43,
   "id": "5b695a14",
   "metadata": {},
   "outputs": [],
   "source": [
    "X_train, X_test, y_train, y_test = train_test_split(X, y, test_size=0.3, random_state = 42, stratify = y)\n",
    "\n",
    "# note that we will need to scale our data in order for the models to work\n",
    "scaler = StandardScaler()\n",
    "#scaler = StandardScaler(with_mean=False)\n",
    "X_train_scaled = pd.DataFrame(scaler.fit_transform(X_train), columns=X_train.columns)\n",
    "X_test_scaled = pd.DataFrame(scaler.fit_transform(X_test), columns=X_test.columns)"
   ]
  },
  {
   "cell_type": "code",
   "execution_count": null,
   "id": "6eb5655a",
   "metadata": {},
   "outputs": [],
   "source": []
  },
  {
   "cell_type": "markdown",
   "id": "33d70d1c",
   "metadata": {},
   "source": [
    "### Problem 7: A Baseline Model\n",
    "\n",
    "Before we build our first model, we want to establish a baseline.  What is the baseline performance that our classifier should aim to beat?"
   ]
  },
  {
   "cell_type": "markdown",
   "id": "226b9f5c",
   "metadata": {},
   "source": [
    "The \"baseline model\" basically assumes that the output is always the majority class, \"NO\" output in this case."
   ]
  },
  {
   "cell_type": "code",
   "execution_count": 44,
   "id": "0b418623",
   "metadata": {},
   "outputs": [],
   "source": [
    "#Baseline\n",
    "\n",
    "majority_class = y.mode().iloc[0]\n",
    "baseline_accuracy = (y == majority_class).mean()"
   ]
  },
  {
   "cell_type": "code",
   "execution_count": 45,
   "id": "f5103380",
   "metadata": {},
   "outputs": [
    {
     "name": "stdout",
     "output_type": "stream",
     "text": [
      "Baseline accuracy using majority class: 0.878\n"
     ]
    }
   ],
   "source": [
    "print(f'Baseline accuracy using majority class: {baseline_accuracy:.3f}')"
   ]
  },
  {
   "cell_type": "code",
   "execution_count": null,
   "id": "42ffe3bb",
   "metadata": {},
   "outputs": [],
   "source": []
  },
  {
   "cell_type": "markdown",
   "id": "bdaaabf8",
   "metadata": {},
   "source": [
    "### Problem 8: A Simple Model\n",
    "\n",
    "Use Logistic Regression to build a basic model on your data.  "
   ]
  },
  {
   "cell_type": "code",
   "execution_count": 46,
   "id": "ba17b8ca",
   "metadata": {},
   "outputs": [],
   "source": [
    "#Logistic Regression (not optimized)\n",
    "lr_model = LogisticRegression(class_weight='balanced', random_state=42)"
   ]
  },
  {
   "cell_type": "code",
   "execution_count": null,
   "id": "2da4543b",
   "metadata": {},
   "outputs": [],
   "source": []
  },
  {
   "cell_type": "markdown",
   "id": "3c21a444",
   "metadata": {},
   "source": [
    "### Problem 9: Score the Model\n",
    "\n",
    "What is the accuracy of your model?"
   ]
  },
  {
   "cell_type": "code",
   "execution_count": 47,
   "id": "3cf9be3b",
   "metadata": {},
   "outputs": [],
   "source": [
    "start_time = time.time()\n",
    "lr_model.fit(X_train_scaled, y_train)\n",
    "end_time = time.time()"
   ]
  },
  {
   "cell_type": "code",
   "execution_count": 48,
   "id": "4cd681d9",
   "metadata": {
    "scrolled": true
   },
   "outputs": [
    {
     "name": "stdout",
     "output_type": "stream",
     "text": [
      "Train Accuracy: 0.700\n",
      "Test Accuracy: 0.685\n",
      "Test Recall: 0.584\n",
      "Test Precision: 0.212\n",
      "Test F1 Score: 0.311\n",
      "Test AUC: 0.702\n",
      "\n",
      "Time to fit: 0.122\n"
     ]
    }
   ],
   "source": [
    "lr_duration = end_time - start_time\n",
    "lr_y_pred = lr_model.predict(X_test_scaled)\n",
    "lr_y_probs = lr_model.predict_proba(X_test_scaled)[:, 1]  # probabilities for the positive class\n",
    "\n",
    "lr_train_accuracy  = accuracy_score(y_train, lr_model.predict(X_train_scaled))\n",
    "lr_test_accuracy = accuracy_score(y_test, lr_y_pred)\n",
    "lr_recall = recall_score(y_test, lr_y_pred)\n",
    "lr_precision = precision_score(y_test, lr_y_pred)\n",
    "lr_f1 = f1_score(y_test, lr_y_pred)\n",
    "lr_auc_score = roc_auc_score(y_test, lr_y_probs)\n",
    "\n",
    "print(f\"Train Accuracy: {lr_train_accuracy:.3f}\")\n",
    "print(f\"Test Accuracy: {lr_test_accuracy:.3f}\")\n",
    "print(f\"Test Recall: {lr_recall:.3f}\")\n",
    "print(f\"Test Precision: {lr_precision:.3f}\")\n",
    "print(f\"Test F1 Score: {lr_f1:.3f}\")\n",
    "print(f\"Test AUC: {lr_auc_score:.3f}\")\n",
    "print(\"\")\n",
    "\n",
    "print(f'Time to fit: {lr_duration:.3f}')"
   ]
  },
  {
   "cell_type": "code",
   "execution_count": 49,
   "id": "8348af79",
   "metadata": {},
   "outputs": [
    {
     "name": "stdout",
     "output_type": "stream",
     "text": [
      "Logistic Regression is better than Baseline: False\n",
      "Difference: -0.193\n"
     ]
    }
   ],
   "source": [
    "print(f'Logistic Regression is better than Baseline: {lr_test_accuracy > baseline_accuracy}')\n",
    "print(f'Difference: {lr_test_accuracy - baseline_accuracy:.3f}')"
   ]
  },
  {
   "cell_type": "markdown",
   "id": "f1cb0fbc",
   "metadata": {},
   "source": [
    "Logistic Regression provides a slight improvement over Baseline model."
   ]
  },
  {
   "cell_type": "markdown",
   "id": "c16c3f04",
   "metadata": {},
   "source": [
    "I also plot a Confusion Matrix to double check the values provided by the above script."
   ]
  },
  {
   "cell_type": "code",
   "execution_count": 50,
   "id": "5807f19f",
   "metadata": {},
   "outputs": [
    {
     "data": {
      "text/plain": [
       "<sklearn.metrics._plot.confusion_matrix.ConfusionMatrixDisplay at 0x1d4d4bd3c40>"
      ]
     },
     "execution_count": 50,
     "metadata": {},
     "output_type": "execute_result"
    },
    {
     "data": {
      "image/png": "[encoded data removed]",
      "text/plain": [
       "<Figure size 640x480 with 2 Axes>"
      ]
     },
     "metadata": {},
     "output_type": "display_data"
    }
   ],
   "source": [
    "from sklearn.metrics import confusion_matrix, ConfusionMatrixDisplay\n",
    "plt.rcdefaults()\n",
    "\n",
    "# Confusion matrix\n",
    "cm = confusion_matrix(y_test, lr_model.predict(X_test_scaled))\n",
    "\n",
    "# Display the confusion matrix\n",
    "disp = ConfusionMatrixDisplay(confusion_matrix=cm,display_labels=lr_model.classes_)\n",
    "disp.plot()"
   ]
  },
  {
   "cell_type": "markdown",
   "id": "f36e2c58",
   "metadata": {},
   "source": [
    "### Problem 10: Model Comparisons\n",
    "\n",
    "Now, we aim to compare the performance of the Logistic Regression model to our KNN algorithm, Decision Tree, and SVM models.  Using the default settings for each of the models, fit and score each.  Also, be sure to compare the fit time of each of the models.  Present your findings in a `DataFrame` similar to that below:\n",
    "\n",
    "| Model | Train Time | Train Accuracy | Test Accuracy |\n",
    "| ----- | ---------- | -------------  | -----------   |\n",
    "|     |    |.     |.     |"
   ]
  },
  {
   "cell_type": "markdown",
   "id": "3a7fe288",
   "metadata": {},
   "source": [
    "Logistic Regression has been already analyzed in the previous paragraph. The remaining models are exposed in the following."
   ]
  },
  {
   "cell_type": "markdown",
   "id": "6c8990df",
   "metadata": {},
   "source": [
    "#### 10.1 KNN"
   ]
  },
  {
   "cell_type": "code",
   "execution_count": 51,
   "id": "ae1de108",
   "metadata": {},
   "outputs": [],
   "source": [
    "knn_model = KNeighborsClassifier()"
   ]
  },
  {
   "cell_type": "code",
   "execution_count": 52,
   "id": "716bc946",
   "metadata": {},
   "outputs": [],
   "source": [
    "start_time = time.time()\n",
    "knn_model.fit(X_train_scaled, y_train)\n",
    "end_time = time.time()"
   ]
  },
  {
   "cell_type": "code",
   "execution_count": 53,
   "id": "6a00d94a",
   "metadata": {},
   "outputs": [
    {
     "name": "stdout",
     "output_type": "stream",
     "text": [
      "Train Accuracy: 0.899\n",
      "Test Accuracy: 0.881\n",
      "Test Recall: 0.181\n",
      "Test Precision: 0.531\n",
      "Test F1 Score: 0.270\n",
      "Test AUC: 0.644\n",
      "\n",
      "Time to fit: 0.009\n"
     ]
    }
   ],
   "source": [
    "knn_duration = end_time - start_time\n",
    "knn_y_pred = knn_model.predict(X_test_scaled)\n",
    "knn_y_probs = knn_model.predict_proba(X_test_scaled)[:, 1]  # probabilities for the positive class\n",
    "\n",
    "knn_train_accuracy  = accuracy_score(y_train, knn_model.predict(X_train_scaled))\n",
    "knn_test_accuracy = accuracy_score(y_test, knn_y_pred)\n",
    "knn_recall = recall_score(y_test, knn_y_pred)\n",
    "knn_precision = precision_score(y_test, knn_y_pred)\n",
    "knn_f1 = f1_score(y_test, knn_y_pred)\n",
    "knn_auc_score = roc_auc_score(y_test, knn_y_probs)\n",
    "\n",
    "print(f\"Train Accuracy: {knn_train_accuracy:.3f}\")\n",
    "print(f\"Test Accuracy: {knn_test_accuracy:.3f}\")\n",
    "print(f\"Test Recall: {knn_recall:.3f}\")\n",
    "print(f\"Test Precision: {knn_precision:.3f}\")\n",
    "print(f\"Test F1 Score: {knn_f1:.3f}\")\n",
    "print(f\"Test AUC: {knn_auc_score:.3f}\")\n",
    "print(\"\")\n",
    "\n",
    "print(f'Time to fit: {knn_duration:.3f}')"
   ]
  },
  {
   "cell_type": "code",
   "execution_count": null,
   "id": "25beca14",
   "metadata": {},
   "outputs": [],
   "source": []
  },
  {
   "cell_type": "markdown",
   "id": "75e13301",
   "metadata": {},
   "source": [
    "#### 10.2 Decision Tree"
   ]
  },
  {
   "cell_type": "code",
   "execution_count": 54,
   "id": "ca4c2460",
   "metadata": {},
   "outputs": [],
   "source": [
    "dt_model = DecisionTreeClassifier(class_weight='balanced')\n",
    "#dt_model = DecisionTreeClassifier()"
   ]
  },
  {
   "cell_type": "code",
   "execution_count": 55,
   "id": "e002f94d",
   "metadata": {},
   "outputs": [],
   "source": [
    "start_time = time.time()\n",
    "dt_model.fit(X_train_scaled, y_train)\n",
    "end_time = time.time()"
   ]
  },
  {
   "cell_type": "code",
   "execution_count": 56,
   "id": "68a48042",
   "metadata": {},
   "outputs": [
    {
     "name": "stdout",
     "output_type": "stream",
     "text": [
      "Train Accuracy: 0.991\n",
      "Test Accuracy: 0.825\n",
      "Test Recall: 0.291\n",
      "Test Precision: 0.284\n",
      "Test F1 Score: 0.288\n",
      "Test AUC: 0.596\n",
      "\n",
      "Time to fit: 0.228\n"
     ]
    }
   ],
   "source": [
    "dt_duration = end_time - start_time\n",
    "dt_y_pred = dt_model.predict(X_test_scaled)\n",
    "dt_y_probs = dt_model.predict_proba(X_test_scaled)[:, 1]  # probabilities for the positive class\n",
    "\n",
    "dt_train_accuracy  = accuracy_score(y_train, dt_model.predict(X_train_scaled))\n",
    "dt_test_accuracy = accuracy_score(y_test, dt_y_pred)\n",
    "dt_recall = recall_score(y_test, dt_y_pred)\n",
    "dt_precision = precision_score(y_test, dt_y_pred)\n",
    "dt_f1 = f1_score(y_test, dt_y_pred)\n",
    "dt_auc_score = roc_auc_score(y_test, dt_y_probs)\n",
    "\n",
    "print(f\"Train Accuracy: {dt_train_accuracy:.3f}\")\n",
    "print(f\"Test Accuracy: {dt_test_accuracy:.3f}\")\n",
    "print(f\"Test Recall: {dt_recall:.3f}\")\n",
    "print(f\"Test Precision: {dt_precision:.3f}\")\n",
    "print(f\"Test F1 Score: {dt_f1:.3f}\")\n",
    "print(f\"Test AUC: {dt_auc_score:.3f}\")\n",
    "print(\"\")\n",
    "\n",
    "print(f'Time to fit: {dt_duration:.3f}')"
   ]
  },
  {
   "cell_type": "code",
   "execution_count": null,
   "id": "75f3893b",
   "metadata": {},
   "outputs": [],
   "source": []
  },
  {
   "cell_type": "markdown",
   "id": "2d717a9f",
   "metadata": {},
   "source": [
    "#### 10.3 SVM"
   ]
  },
  {
   "cell_type": "code",
   "execution_count": 57,
   "id": "43fe1d97",
   "metadata": {},
   "outputs": [],
   "source": [
    "svm_model = SVC(class_weight='balanced')"
   ]
  },
  {
   "cell_type": "code",
   "execution_count": 58,
   "id": "74758aca",
   "metadata": {},
   "outputs": [],
   "source": [
    "start_time = time.time()\n",
    "svm_model.fit(X_train_scaled, y_train)\n",
    "end_time = time.time()"
   ]
  },
  {
   "cell_type": "code",
   "execution_count": 59,
   "id": "76cae778",
   "metadata": {},
   "outputs": [
    {
     "name": "stdout",
     "output_type": "stream",
     "text": [
      "Train Accuracy: 0.769\n",
      "Test Accuracy: 0.737\n",
      "Test Recall: 0.552\n",
      "Test Precision: 0.243\n",
      "Test F1 Score: 0.337\n",
      "\n",
      "Time to fit: 37.761\n"
     ]
    }
   ],
   "source": [
    "svm_duration = end_time - start_time\n",
    "svm_y_pred = svm_model.predict(X_test_scaled)\n",
    "#svm_y_probs = svm_model.predict_proba(X_test_scaled)[:, 1]  # probabilities for the positive class\n",
    "\n",
    "svm_train_accuracy  = accuracy_score(y_train, svm_model.predict(X_train_scaled))\n",
    "svm_test_accuracy = accuracy_score(y_test, svm_y_pred)\n",
    "svm_recall = recall_score(y_test, svm_y_pred)\n",
    "svm_precision = precision_score(y_test, svm_y_pred)\n",
    "svm_f1 = f1_score(y_test, svm_y_pred)\n",
    "#svm_auc_score = roc_auc_score(y_test, svm_y_probs)\n",
    "\n",
    "print(f\"Train Accuracy: {svm_train_accuracy:.3f}\")\n",
    "print(f\"Test Accuracy: {svm_test_accuracy:.3f}\")\n",
    "print(f\"Test Recall: {svm_recall:.3f}\")\n",
    "print(f\"Test Precision: {svm_precision:.3f}\")\n",
    "print(f\"Test F1 Score: {svm_f1:.3f}\")\n",
    "#print(f\"Test AUC: {svm_auc_score:.3f}\")\n",
    "print(\"\")\n",
    "\n",
    "print(f'Time to fit: {svm_duration:.3f}')"
   ]
  },
  {
   "cell_type": "code",
   "execution_count": null,
   "id": "dc0e5c60",
   "metadata": {},
   "outputs": [],
   "source": []
  },
  {
   "cell_type": "markdown",
   "id": "d77d8bb1",
   "metadata": {},
   "source": [
    "#### Recap Table"
   ]
  },
  {
   "cell_type": "code",
   "execution_count": 60,
   "id": "2ab231b1",
   "metadata": {},
   "outputs": [
    {
     "data": {
      "text/html": [
       "<div>\n",
       "<style scoped>\n",
       "    .dataframe tbody tr th:only-of-type {\n",
       "        vertical-align: middle;\n",
       "    }\n",
       "\n",
       "    .dataframe tbody tr th {\n",
       "        vertical-align: top;\n",
       "    }\n",
       "\n",
       "    .dataframe thead th {\n",
       "        text-align: right;\n",
       "    }\n",
       "</style>\n",
       "<table border=\"1\" class=\"dataframe\">\n",
       "  <thead>\n",
       "    <tr style=\"text-align: right;\">\n",
       "      <th></th>\n",
       "      <th>Model</th>\n",
       "      <th>Train Time</th>\n",
       "      <th>Train Accuracy</th>\n",
       "      <th>Test Accuracy</th>\n",
       "    </tr>\n",
       "  </thead>\n",
       "  <tbody>\n",
       "    <tr>\n",
       "      <th>0</th>\n",
       "      <td>Baseline</td>\n",
       "      <td>N/A</td>\n",
       "      <td>N/A</td>\n",
       "      <td>0.878377</td>\n",
       "    </tr>\n",
       "    <tr>\n",
       "      <th>1</th>\n",
       "      <td>Logistic Regression</td>\n",
       "      <td>0.121661</td>\n",
       "      <td>0.699995</td>\n",
       "      <td>0.685210</td>\n",
       "    </tr>\n",
       "    <tr>\n",
       "      <th>2</th>\n",
       "      <td>KNN</td>\n",
       "      <td>0.009008</td>\n",
       "      <td>0.898587</td>\n",
       "      <td>0.880968</td>\n",
       "    </tr>\n",
       "    <tr>\n",
       "      <th>3</th>\n",
       "      <td>Decision Tree</td>\n",
       "      <td>0.227779</td>\n",
       "      <td>0.991386</td>\n",
       "      <td>0.824561</td>\n",
       "    </tr>\n",
       "    <tr>\n",
       "      <th>4</th>\n",
       "      <td>SVM</td>\n",
       "      <td>37.761295</td>\n",
       "      <td>0.768953</td>\n",
       "      <td>0.736620</td>\n",
       "    </tr>\n",
       "  </tbody>\n",
       "</table>\n",
       "</div>"
      ],
      "text/plain": [
       "                 Model Train Time Train Accuracy  Test Accuracy\n",
       "0             Baseline        N/A            N/A       0.878377\n",
       "1  Logistic Regression   0.121661       0.699995       0.685210\n",
       "2                  KNN   0.009008       0.898587       0.880968\n",
       "3        Decision Tree   0.227779       0.991386       0.824561\n",
       "4                  SVM  37.761295       0.768953       0.736620"
      ]
     },
     "execution_count": 60,
     "metadata": {},
     "output_type": "execute_result"
    }
   ],
   "source": [
    "consolidated_df = pd.DataFrame({\n",
    "    'Model': ['Baseline', 'Logistic Regression', 'KNN', 'Decision Tree', 'SVM'],\n",
    "    'Train Time': ['N/A', lr_duration, knn_duration, dt_duration, svm_duration],  \n",
    "    'Train Accuracy': ['N/A', lr_train_accuracy, knn_train_accuracy, dt_train_accuracy, svm_train_accuracy],  \n",
    "    'Test Accuracy': [baseline_accuracy, lr_test_accuracy, knn_test_accuracy, dt_test_accuracy, svm_test_accuracy]\n",
    "})\n",
    "\n",
    "consolidated_df"
   ]
  },
  {
   "cell_type": "markdown",
   "id": "ba40cb9f",
   "metadata": {},
   "source": [
    "### Problem 11: Improving the Model\n",
    "\n",
    "Now that we have some basic models on the board, we want to try to improve these.  Below, we list a few things to explore in this pursuit.\n",
    "\n",
    "- More feature engineering and exploration.  For example, should we keep the gender feature?  Why or why not?\n",
    "- Hyperparameter tuning and grid search.  All of our models have additional hyperparameters to tune and explore.  For example the number of neighbors in KNN or the maximum depth of a Decision Tree.  \n",
    "- Adjust your performance metric"
   ]
  },
  {
   "cell_type": "markdown",
   "id": "87b9e886",
   "metadata": {},
   "source": [
    "#### Classification Metric"
   ]
  },
  {
   "cell_type": "markdown",
   "id": "aa986850",
   "metadata": {},
   "source": [
    "Accuracy is not the best metric for unbalanced datasets because it can be misleading and fail to reflect the model's performance on the minority class, which is in this case the class of interest.\n",
    "\n",
    "In this case metrics like \"recall\" and \"precision\" appear more interesting. In detail:\n",
    "\n",
    "- A high recall ensures that most of the potential new customers are identified. This minimizes the risk of missing out on potential new customers.\n",
    "\n",
    "- High precision ensures that when the model predicts a customer will accept the coupon, it is usually correct. This helps in minimizing the cost and effort of targeting customers who are unlikely to sign with the bank.\n",
    "\n",
    "Considering the Business objective, a metric able to minimize the resources invested by the bank seems ideal in this application. I optimize by `precision`."
   ]
  },
  {
   "cell_type": "markdown",
   "id": "ad032075",
   "metadata": {},
   "source": [
    "#### 11.1 Logistic Regression Tuned"
   ]
  },
  {
   "cell_type": "code",
   "execution_count": 61,
   "id": "e2d65a83",
   "metadata": {},
   "outputs": [],
   "source": [
    "param_grid = {\n",
    "    'C': [0.001, 0.01, 0.1, 1, 10, 100],  # Regularization strength\n",
    "    'penalty': ['l1', 'l2'],\n",
    "    'solver': ['liblinear', 'saga']  # Algorithm to use in the optimization problem\n",
    "}"
   ]
  },
  {
   "cell_type": "code",
   "execution_count": 62,
   "id": "f9a521c1",
   "metadata": {},
   "outputs": [],
   "source": [
    "grid = GridSearchCV(estimator=lr_model, param_grid=param_grid, cv=5, verbose=1, scoring='precision')"
   ]
  },
  {
   "cell_type": "code",
   "execution_count": 63,
   "id": "cd608124",
   "metadata": {
    "scrolled": true
   },
   "outputs": [
    {
     "name": "stdout",
     "output_type": "stream",
     "text": [
      "Fitting 5 folds for each of 24 candidates, totalling 120 fits\n"
     ]
    }
   ],
   "source": [
    "start_time = time.time()\n",
    "grid.fit(X_train_scaled, y_train)\n",
    "end_time = time.time()"
   ]
  },
  {
   "cell_type": "code",
   "execution_count": 65,
   "id": "53315cb6",
   "metadata": {},
   "outputs": [
    {
     "name": "stdout",
     "output_type": "stream",
     "text": [
      "Train Accuracy: 0.885\n",
      "Test Accuracy: 0.884\n",
      "Test Recall: 0.231\n",
      "Test Precision: 0.555\n",
      "Test F1 Score: 0.326\n",
      "Test AUC: 0.665\n",
      "\n",
      "Best parameters: {'C': 0.001, 'penalty': 'l1', 'solver': 'saga'}\n",
      "WC Fit Time: 7.028\n",
      "Time to fit: 113.852\n"
     ]
    }
   ],
   "source": [
    "lr_best_params = grid.best_params_\n",
    "lr_duration = end_time - start_time\n",
    "lr_fitTime = grid.cv_results_['mean_fit_time'].max()\n",
    "lr_y_pred = grid.predict(X_test_scaled)\n",
    "lr_y_probs = grid.predict_proba(X_test_scaled)[:, 1]  # probabilities for the positive class\n",
    "\n",
    "lr_train_accuracy  = accuracy_score(y_train, grid.predict(X_train_scaled))\n",
    "lr_test_accuracy = accuracy_score(y_test, lr_y_pred)\n",
    "lr_recall = recall_score(y_test, lr_y_pred)\n",
    "lr_precision = precision_score(y_test, lr_y_pred)\n",
    "lr_f1 = f1_score(y_test, lr_y_pred)\n",
    "lr_auc_score = roc_auc_score(y_test, lr_y_probs)\n",
    "\n",
    "print(f\"Train Accuracy: {lr_train_accuracy:.3f}\")\n",
    "print(f\"Test Accuracy: {lr_test_accuracy:.3f}\")\n",
    "print(f\"Test Recall: {lr_recall:.3f}\")\n",
    "print(f\"Test Precision: {lr_precision:.3f}\")\n",
    "print(f\"Test F1 Score: {lr_f1:.3f}\")\n",
    "print(f\"Test AUC: {lr_auc_score:.3f}\")\n",
    "print(\"\")\n",
    "\n",
    "print(f'Best parameters: {lr_best_params}')\n",
    "print(f'WC Fit Time: {lr_fitTime:.3f}')\n",
    "print(f'Time to fit: {lr_duration:.3f}')"
   ]
  },
  {
   "cell_type": "code",
   "execution_count": null,
   "id": "61763d82",
   "metadata": {},
   "outputs": [],
   "source": []
  },
  {
   "cell_type": "markdown",
   "id": "403a8160",
   "metadata": {},
   "source": [
    "#### 11.2 KNN Tuned"
   ]
  },
  {
   "cell_type": "code",
   "execution_count": 66,
   "id": "749fc1aa",
   "metadata": {},
   "outputs": [],
   "source": [
    "param_grid = {'n_neighbors': range(1, 50, 2)}"
   ]
  },
  {
   "cell_type": "code",
   "execution_count": 67,
   "id": "dec53717",
   "metadata": {},
   "outputs": [],
   "source": [
    "grid = GridSearchCV(estimator=knn_model, param_grid=param_grid, cv=5, verbose=1, scoring='precision')"
   ]
  },
  {
   "cell_type": "code",
   "execution_count": 68,
   "id": "6068cfa9",
   "metadata": {},
   "outputs": [
    {
     "name": "stdout",
     "output_type": "stream",
     "text": [
      "Fitting 5 folds for each of 25 candidates, totalling 125 fits\n"
     ]
    }
   ],
   "source": [
    "start_time = time.time()\n",
    "grid.fit(X_train_scaled, y_train)\n",
    "end_time = time.time()"
   ]
  },
  {
   "cell_type": "code",
   "execution_count": 69,
   "id": "d4ec3dae",
   "metadata": {},
   "outputs": [
    {
     "name": "stdout",
     "output_type": "stream",
     "text": [
      "Train Accuracy: 0.890\n",
      "Test Accuracy: 0.889\n",
      "Test Recall: 0.181\n",
      "Test Precision: 0.662\n",
      "Test F1 Score: 0.284\n",
      "Test AUC: 0.681\n",
      "\n",
      "Best parameters: {'n_neighbors': 27}\n",
      "WC Fit Time: 0.018\n",
      "Time to fit: 79.911\n"
     ]
    }
   ],
   "source": [
    "knn_best_params = grid.best_params_\n",
    "knn_duration = end_time - start_time\n",
    "knn_fitTime = grid.cv_results_['mean_fit_time'].max()\n",
    "knn_y_pred = grid.predict(X_test_scaled)\n",
    "knn_y_probs = grid.predict_proba(X_test_scaled)[:, 1]  # probabilities for the positive class\n",
    "\n",
    "knn_train_accuracy  = accuracy_score(y_train, grid.predict(X_train_scaled))\n",
    "knn_test_accuracy = accuracy_score(y_test, knn_y_pred)\n",
    "knn_recall = recall_score(y_test, knn_y_pred)\n",
    "knn_precision = precision_score(y_test, knn_y_pred)\n",
    "knn_f1 = f1_score(y_test, knn_y_pred)\n",
    "knn_auc_score = roc_auc_score(y_test, knn_y_probs)\n",
    "\n",
    "print(f\"Train Accuracy: {knn_train_accuracy:.3f}\")\n",
    "print(f\"Test Accuracy: {knn_test_accuracy:.3f}\")\n",
    "print(f\"Test Recall: {knn_recall:.3f}\")\n",
    "print(f\"Test Precision: {knn_precision:.3f}\")\n",
    "print(f\"Test F1 Score: {knn_f1:.3f}\")\n",
    "print(f\"Test AUC: {knn_auc_score:.3f}\")\n",
    "print(\"\")\n",
    "\n",
    "print(f'Best parameters: {knn_best_params}')\n",
    "print(f'WC Fit Time: {knn_fitTime:.3f}')\n",
    "print(f'Time to fit: {knn_duration:.3f}')"
   ]
  },
  {
   "cell_type": "code",
   "execution_count": null,
   "id": "b9f46727",
   "metadata": {},
   "outputs": [],
   "source": []
  },
  {
   "cell_type": "markdown",
   "id": "15c4cb71",
   "metadata": {},
   "source": [
    "#### 11.3 Decision Tree Tuned"
   ]
  },
  {
   "cell_type": "code",
   "execution_count": 70,
   "id": "5703c409",
   "metadata": {},
   "outputs": [],
   "source": [
    "param_grid = {'max_depth': range(1,20),\n",
    "          'min_samples_split': [2,4,8],\n",
    "          'criterion': ['gini', 'entropy'],\n",
    "          'min_samples_leaf': [1,2,4]\n",
    "         }"
   ]
  },
  {
   "cell_type": "code",
   "execution_count": 71,
   "id": "dd3be004",
   "metadata": {},
   "outputs": [],
   "source": [
    "grid = GridSearchCV(estimator=dt_model, param_grid=param_grid, cv=5, verbose=1, scoring='precision')"
   ]
  },
  {
   "cell_type": "code",
   "execution_count": 72,
   "id": "6b90b110",
   "metadata": {},
   "outputs": [
    {
     "name": "stdout",
     "output_type": "stream",
     "text": [
      "Fitting 5 folds for each of 342 candidates, totalling 1710 fits\n"
     ]
    }
   ],
   "source": [
    "start_time = time.time()\n",
    "grid.fit(X_train_scaled, y_train)\n",
    "end_time = time.time()"
   ]
  },
  {
   "cell_type": "code",
   "execution_count": 73,
   "id": "e29e9287",
   "metadata": {},
   "outputs": [
    {
     "name": "stdout",
     "output_type": "stream",
     "text": [
      "Train Accuracy: 0.889\n",
      "Test Accuracy: 0.889\n",
      "Test Recall: 0.205\n",
      "Test Precision: 0.632\n",
      "Test F1 Score: 0.310\n",
      "Test AUC: 0.594\n",
      "\n",
      "Best parameters: {'criterion': 'gini', 'max_depth': 1, 'min_samples_leaf': 1, 'min_samples_split': 2}\n",
      "WC Fit Time: 0.135\n",
      "Time to fit: 112.625\n"
     ]
    }
   ],
   "source": [
    "dt_best_params = grid.best_params_\n",
    "dt_duration = end_time - start_time\n",
    "dt_fitTime = grid.cv_results_['mean_fit_time'].max()\n",
    "dt_y_pred = grid.predict(X_test_scaled)\n",
    "dt_y_probs = grid.predict_proba(X_test_scaled)[:, 1]  # probabilities for the positive class\n",
    "\n",
    "dt_train_accuracy  = accuracy_score(y_train, grid.predict(X_train_scaled))\n",
    "dt_test_accuracy = accuracy_score(y_test, dt_y_pred)\n",
    "dt_recall = recall_score(y_test, dt_y_pred)\n",
    "dt_precision = precision_score(y_test, dt_y_pred)\n",
    "dt_f1 = f1_score(y_test, dt_y_pred)\n",
    "dt_auc_score = roc_auc_score(y_test, dt_y_probs)\n",
    "\n",
    "print(f\"Train Accuracy: {dt_train_accuracy:.3f}\")\n",
    "print(f\"Test Accuracy: {dt_test_accuracy:.3f}\")\n",
    "print(f\"Test Recall: {dt_recall:.3f}\")\n",
    "print(f\"Test Precision: {dt_precision:.3f}\")\n",
    "print(f\"Test F1 Score: {dt_f1:.3f}\")\n",
    "print(f\"Test AUC: {dt_auc_score:.3f}\")\n",
    "print(\"\")\n",
    "\n",
    "print(f'Best parameters: {dt_best_params}')\n",
    "print(f'WC Fit Time: {dt_fitTime:.3f}')\n",
    "print(f'Time to fit: {dt_duration:.3f}')"
   ]
  },
  {
   "cell_type": "code",
   "execution_count": null,
   "id": "3cf4e7d6",
   "metadata": {},
   "outputs": [],
   "source": []
  },
  {
   "cell_type": "markdown",
   "id": "39b78991",
   "metadata": {},
   "source": [
    "#### SVM Tuned"
   ]
  },
  {
   "cell_type": "code",
   "execution_count": 74,
   "id": "b9713bf1",
   "metadata": {},
   "outputs": [],
   "source": [
    "param_grid = {\n",
    "            #'kernel': ['rbf', 'poly', 'linear', 'sigmoid'],\n",
    "            'gamma': [0.00001, 0.001, 0.1]\n",
    "            }"
   ]
  },
  {
   "cell_type": "code",
   "execution_count": 75,
   "id": "e49489d4",
   "metadata": {},
   "outputs": [],
   "source": [
    "grid = GridSearchCV(estimator=svm_model, param_grid=param_grid, cv=5, verbose=3, scoring='precision')"
   ]
  },
  {
   "cell_type": "code",
   "execution_count": 76,
   "id": "801e8c8f",
   "metadata": {},
   "outputs": [
    {
     "name": "stdout",
     "output_type": "stream",
     "text": [
      "Fitting 5 folds for each of 3 candidates, totalling 15 fits\n",
      "[CV 1/5] END .......................gamma=1e-05;, score=0.604 total time=  39.8s\n",
      "[CV 2/5] END .......................gamma=1e-05;, score=0.607 total time=  43.6s\n",
      "[CV 3/5] END .......................gamma=1e-05;, score=0.645 total time=  38.3s\n",
      "[CV 4/5] END .......................gamma=1e-05;, score=0.639 total time=  39.4s\n",
      "[CV 5/5] END .......................gamma=1e-05;, score=0.614 total time=  40.7s\n",
      "[CV 1/5] END .......................gamma=0.001;, score=0.240 total time=  34.5s\n",
      "[CV 2/5] END .......................gamma=0.001;, score=0.256 total time=  32.2s\n",
      "[CV 3/5] END .......................gamma=0.001;, score=0.298 total time=  35.5s\n",
      "[CV 4/5] END .......................gamma=0.001;, score=0.243 total time=  35.0s\n",
      "[CV 5/5] END .......................gamma=0.001;, score=0.262 total time=  33.3s\n",
      "[CV 1/5] END .........................gamma=0.1;, score=0.214 total time=  32.2s\n",
      "[CV 2/5] END .........................gamma=0.1;, score=0.220 total time=  30.9s\n",
      "[CV 3/5] END .........................gamma=0.1;, score=0.225 total time=  31.7s\n",
      "[CV 4/5] END .........................gamma=0.1;, score=0.221 total time=  30.3s\n",
      "[CV 5/5] END .........................gamma=0.1;, score=0.219 total time=  29.1s\n"
     ]
    }
   ],
   "source": [
    "start_time = time.time()\n",
    "grid.fit(X_train_scaled, y_train)\n",
    "end_time = time.time()"
   ]
  },
  {
   "cell_type": "code",
   "execution_count": 77,
   "id": "d4fda006",
   "metadata": {},
   "outputs": [
    {
     "name": "stdout",
     "output_type": "stream",
     "text": [
      "Train Accuracy: 0.888\n",
      "Test Accuracy: 0.887\n",
      "Test Recall: 0.209\n",
      "Test Precision: 0.601\n",
      "Test F1 Score: 0.310\n",
      "\n",
      "Best parameters: {'gamma': 1e-05}\n",
      "WC Fit Time: 31.471\n",
      "Time to fit: 575.183\n"
     ]
    }
   ],
   "source": [
    "svm_best_params = grid.best_params_\n",
    "svm_duration = end_time - start_time\n",
    "svm_fitTime = grid.cv_results_['mean_fit_time'].max()\n",
    "svm_y_pred = grid.predict(X_test_scaled)\n",
    "#svm_y_probs = grid.predict_proba(X_test_scaled)[:, 1]  # probabilities for the positive class\n",
    "\n",
    "svm_train_accuracy  = accuracy_score(y_train, grid.predict(X_train_scaled))\n",
    "svm_test_accuracy = accuracy_score(y_test, svm_y_pred)\n",
    "svm_recall = recall_score(y_test, svm_y_pred)\n",
    "svm_precision = precision_score(y_test, svm_y_pred)\n",
    "svm_f1 = f1_score(y_test, svm_y_pred)\n",
    "#svm_auc_score = roc_auc_score(y_test, svm_y_probs)\n",
    "\n",
    "print(f\"Train Accuracy: {svm_train_accuracy:.3f}\")\n",
    "print(f\"Test Accuracy: {svm_test_accuracy:.3f}\")\n",
    "print(f\"Test Recall: {svm_recall:.3f}\")\n",
    "print(f\"Test Precision: {svm_precision:.3f}\")\n",
    "print(f\"Test F1 Score: {svm_f1:.3f}\")\n",
    "#print(f\"Test AUC: {svm_auc_score:.3f}\")\n",
    "print(\"\")\n",
    "\n",
    "print(f'Best parameters: {svm_best_params}')\n",
    "print(f'WC Fit Time: {svm_fitTime:.3f}')\n",
    "print(f'Time to fit: {svm_duration:.3f}')"
   ]
  },
  {
   "cell_type": "code",
   "execution_count": null,
   "id": "ba54fdc4",
   "metadata": {},
   "outputs": [],
   "source": []
  },
  {
   "cell_type": "markdown",
   "id": "77861877",
   "metadata": {},
   "source": [
    "#### Recap after Tuning"
   ]
  },
  {
   "cell_type": "code",
   "execution_count": 78,
   "id": "6787383e",
   "metadata": {},
   "outputs": [
    {
     "data": {
      "text/html": [
       "<div>\n",
       "<style scoped>\n",
       "    .dataframe tbody tr th:only-of-type {\n",
       "        vertical-align: middle;\n",
       "    }\n",
       "\n",
       "    .dataframe tbody tr th {\n",
       "        vertical-align: top;\n",
       "    }\n",
       "\n",
       "    .dataframe thead th {\n",
       "        text-align: right;\n",
       "    }\n",
       "</style>\n",
       "<table border=\"1\" class=\"dataframe\">\n",
       "  <thead>\n",
       "    <tr style=\"text-align: right;\">\n",
       "      <th></th>\n",
       "      <th>Model</th>\n",
       "      <th>GSCV Time (s)</th>\n",
       "      <th>Fit Time (s)</th>\n",
       "      <th>Test Accuracy</th>\n",
       "      <th>Test Precision</th>\n",
       "    </tr>\n",
       "  </thead>\n",
       "  <tbody>\n",
       "    <tr>\n",
       "      <th>0</th>\n",
       "      <td>Logistic Regression</td>\n",
       "      <td>113.851654</td>\n",
       "      <td>7.028314</td>\n",
       "      <td>0.883966</td>\n",
       "      <td>0.554825</td>\n",
       "    </tr>\n",
       "    <tr>\n",
       "      <th>1</th>\n",
       "      <td>KNN</td>\n",
       "      <td>79.910986</td>\n",
       "      <td>0.017573</td>\n",
       "      <td>0.889185</td>\n",
       "      <td>0.662207</td>\n",
       "    </tr>\n",
       "    <tr>\n",
       "      <th>2</th>\n",
       "      <td>Decision Tree</td>\n",
       "      <td>112.624792</td>\n",
       "      <td>0.135129</td>\n",
       "      <td>0.888852</td>\n",
       "      <td>0.632022</td>\n",
       "    </tr>\n",
       "    <tr>\n",
       "      <th>3</th>\n",
       "      <td>SVM</td>\n",
       "      <td>575.183192</td>\n",
       "      <td>31.470885</td>\n",
       "      <td>0.886964</td>\n",
       "      <td>0.601050</td>\n",
       "    </tr>\n",
       "  </tbody>\n",
       "</table>\n",
       "</div>"
      ],
      "text/plain": [
       "                 Model  GSCV Time (s)  Fit Time (s)  Test Accuracy  \\\n",
       "0  Logistic Regression     113.851654      7.028314       0.883966   \n",
       "1                  KNN      79.910986      0.017573       0.889185   \n",
       "2        Decision Tree     112.624792      0.135129       0.888852   \n",
       "3                  SVM     575.183192     31.470885       0.886964   \n",
       "\n",
       "   Test Precision  \n",
       "0        0.554825  \n",
       "1        0.662207  \n",
       "2        0.632022  \n",
       "3        0.601050  "
      ]
     },
     "execution_count": 78,
     "metadata": {},
     "output_type": "execute_result"
    }
   ],
   "source": [
    "consolidated_df = pd.DataFrame({\n",
    "    'Model': ['Logistic Regression', 'KNN', 'Decision Tree', 'SVM'],\n",
    "    'GSCV Time (s)': [lr_duration, knn_duration, dt_duration, svm_duration],  \n",
    "    'Fit Time (s)': [lr_fitTime, knn_fitTime, dt_fitTime, svm_fitTime],\n",
    "    'Test Accuracy': [lr_test_accuracy, knn_test_accuracy, dt_test_accuracy, svm_test_accuracy],\n",
    "    'Test Precision': [lr_precision, knn_precision, dt_precision, svm_precision]\n",
    "})\n",
    "\n",
    "consolidated_df"
   ]
  },
  {
   "cell_type": "code",
   "execution_count": null,
   "id": "1c2e9ac4",
   "metadata": {},
   "outputs": [],
   "source": []
  },
  {
   "cell_type": "markdown",
   "id": "b1c7f14f",
   "metadata": {},
   "source": [
    "### Conclusions\n",
    "\n",
    "The dataset is very unbalanced, with more than 80% of rows referring to potential customers who didn't subscribe a deposit. Because of this, \"accuracy\" is not a reliable metric: all the models investigated provide high values, but this is a metric highly influenced by the majority group (i.e. people who didn't subscribe a deposit). Prove of this is the baseline metric: a model always predicting the majority group (\"no\") already provides an accuracy pretty high.\n",
    "\n",
    "To achieve the Business Objective a more meaningful metric is required. \"Precision\" ensures that when the model predicts a customer will accept the coupon, it is usually correct. This helps in minimizing the cost and effort of targeting customers who are unlikely to sign with the bank.\n",
    "\n",
    "Considering the Business objective, a metric able to minimize the resources invested by the bank seems ideal. According to this approach, an optimized KNN model provides the highest value of precision (66%), with a not negligeble efficiency in term of elapsed time. Another valuable option is the Decision Tree, with a slighly lower precision (63%) and twice the time to fit; its recall is a bit higher though. Logistic Regression provides a fit time similar to decision tree, but with a worse precision. SVM provides a not very high precision value, with a huge time required to fit: not a recommended option."
   ]
  },
  {
   "cell_type": "markdown",
   "id": "b9359443",
   "metadata": {},
   "source": [
    "### Next Steps\n",
    "Considering the very unbalanced nature of this dataset, I would recommend to take actions to \"rebalance\" it. This means adopting techniques of oversampling (for minority group) or undersampling (for majority group). I tried something during this analysis but I didn't trust the results. A more methodic approach should be developed in this topic."
   ]
  },
  {
   "cell_type": "code",
   "execution_count": null,
   "id": "bdfdb960",
   "metadata": {},
   "outputs": [],
   "source": []
  }
 ],
 "metadata": {
  "kernelspec": {
   "display_name": "Python 3 (ipykernel)",
   "language": "python",
   "name": "python3"
  },
  "language_info": {
   "codemirror_mode": {
    "name": "ipython",
    "version": 3
   },
   "file_extension": ".py",
   "mimetype": "text/x-python",
   "name": "python",
   "nbconvert_exporter": "python",
   "pygments_lexer": "ipython3",
   "version": "3.10.9"
  }
 },
 "nbformat": 4,
 "nbformat_minor": 5
}
